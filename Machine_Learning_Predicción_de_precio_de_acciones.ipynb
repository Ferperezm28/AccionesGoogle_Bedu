{
  "nbformat": 4,
  "nbformat_minor": 0,
  "metadata": {
    "colab": {
      "provenance": [],
      "include_colab_link": true
    },
    "kernelspec": {
      "name": "python3",
      "display_name": "Python 3"
    },
    "language_info": {
      "name": "python"
    }
  },
  "cells": [
    {
      "cell_type": "markdown",
      "metadata": {
        "id": "view-in-github",
        "colab_type": "text"
      },
      "source": [
        "<a href=\"https://colab.research.google.com/github/Ferperezm28/AccionesGoogle_Bedu/blob/main/Machine_Learning_Predicci%C3%B3n_de_precio_de_acciones.ipynb\" target=\"_parent\"><img src=\"https://colab.research.google.com/assets/colab-badge.svg\" alt=\"Open In Colab\"/></a>"
      ]
    },
    {
      "cell_type": "markdown",
      "source": [
        "# Proyecto de Predicción de acciones con Ciencia de datos de la empresa Google"
      ],
      "metadata": {
        "id": "k1naerv9LQmE"
      }
    },
    {
      "cell_type": "markdown",
      "source": [
        "**Integrantes del Equipo:**\n",
        "\n",
        "\n",
        "*   Estefania Ospina Cardona - fania0115@gmail.com\n",
        "*   Fernanda Perez Martinez - a.ferp71@gmail.com\n",
        "*   Paola Denisse Ortega Lara - paola04denisse@gmail.com\n",
        "*   Vania Celeste Gudiño Mendez - gu399394@uaeh.edu.mx\n",
        "\n",
        "\n"
      ],
      "metadata": {
        "id": "UKuTRS3yw_S0"
      }
    },
    {
      "cell_type": "markdown",
      "source": [
        "**Introducción:**\n",
        "\n",
        "\n",
        "\n",
        "\n",
        "\n",
        "Este análisis tiene como objetivo examinar la evolución de las acciones de Google en los últimos 15 años(2009-2024) con el propósito de identificar patrones y tendencias. A través de este estudio, buscamos construir un modelo de regresión lineal simple utilizando datos históricos para prever posibles movimientos futuros en el precio de las acciones.\n",
        "Este análisis es crucial para inversores, gestores de fondos y analistas que buscan tomar decisiones informadas en el mercado financiero. Al comprender a fondo los factores que han influido en el rendimiento pasado de las acciones de Google, esperamos proporcionar información valiosa para la toma de decisiones estratégicas y la planificación financiera."
      ],
      "metadata": {
        "id": "0UGljkYyxDjT"
      }
    },
    {
      "cell_type": "markdown",
      "source": [
        "**Origen de los Datos:**\n",
        "\n",
        "Los datos han sido extraídos de Yahoo Finance, una plataforma líder en información financiera. Se obtuvieron registros históricos de las acciones de Google en formato CSV facilitando su manipulación y análisis,  abarcando un período de los últimos 15 años hasta la fecha de extracción.\n",
        "\n",
        "Recursos: [Yahoo Finance](https://finance.yahoo.com/)"
      ],
      "metadata": {
        "id": "rF2UX76lxmC-"
      }
    },
    {
      "cell_type": "markdown",
      "source": [
        "**Identificar el problema**\n",
        "* Se puede predecir el valor de las acciones con base en sus datos históricos y determinar la confiabilidad de la empresa, en base a esto.\n",
        "\n",
        "Preguntas:\n",
        "1. ¿Existe una periodicidad en el precio de las acciones? (encontrar patrones en alzas o baja de la acciones, presentes cada año en cierto período de tiempo -cada verano)\n",
        "2. ¿El valor promedio al que cierra una acción es determinante en su valor futuro del próximo mes?\n",
        "3. ¿Cómo ha cambiado el precio de las acciones a lo largo del tiempo?\n",
        "4. ¿Cuándo se presentan más movimientos en las acciones? ¿Estos dependen del precio de las acciones?\n",
        "5. ¿Cuál es el mejor día para invertir?\n",
        "6. ¿Existe un período de tiempo más adecuado para invetir? por ejemplo donde el precio sea bajo y este solo crezca.\n",
        "7. ¿Podemos identificar períodos de crisis o recesión de la empresa mediante el precio de sus acciones?\n",
        "8. ¿Cuál sería el valor de las acciones en 5, 10 y 20 años, de acuerdo con los datos históricos?"
      ],
      "metadata": {
        "id": "6lV0gPyDP1j2"
      }
    },
    {
      "cell_type": "markdown",
      "source": [
        "# Dataset"
      ],
      "metadata": {
        "id": "MUqrtS7bRQZm"
      }
    },
    {
      "cell_type": "markdown",
      "source": [
        "Importación de paquetes"
      ],
      "metadata": {
        "id": "STicAKqxLd9-"
      }
    },
    {
      "cell_type": "code",
      "source": [
        "import pandas as pd\n",
        "import numpy as np\n",
        "import matplotlib.pyplot as plt\n",
        "import seaborn as sns"
      ],
      "metadata": {
        "id": "T7kH7uDvLX4S"
      },
      "execution_count": null,
      "outputs": []
    },
    {
      "cell_type": "markdown",
      "source": [
        "Cargamos nuestros datos"
      ],
      "metadata": {
        "id": "3GUg3ZGELo5h"
      }
    },
    {
      "cell_type": "code",
      "source": [
        "data=pd.read_csv('https://raw.githubusercontent.com/Ferperezm28/AccionesGoogle_Bedu/main/Datasets/GOOGL.csv', sep=',')"
      ],
      "metadata": {
        "id": "7oKqwJeQLn82"
      },
      "execution_count": null,
      "outputs": []
    },
    {
      "cell_type": "markdown",
      "source": [
        "*Informacion sobre el dataset*"
      ],
      "metadata": {
        "id": "S8IfPtSKRW50"
      }
    },
    {
      "cell_type": "code",
      "source": [
        "#Cantidad de datos\n",
        "data.shape"
      ],
      "metadata": {
        "colab": {
          "base_uri": "https://localhost:8080/"
        },
        "id": "cYnPkqpmdzgh",
        "outputId": "7e9b5f42-8406-4a33-e97d-b5b075be1e56"
      },
      "execution_count": null,
      "outputs": [
        {
          "output_type": "execute_result",
          "data": {
            "text/plain": [
              "(3774, 7)"
            ]
          },
          "metadata": {},
          "execution_count": 4
        }
      ]
    },
    {
      "cell_type": "code",
      "source": [
        "data.head(5)"
      ],
      "metadata": {
        "colab": {
          "base_uri": "https://localhost:8080/",
          "height": 206
        },
        "id": "8mkTv5Ivd2qw",
        "outputId": "6a098c49-78b8-45e9-fc7b-f8898e304f2f"
      },
      "execution_count": null,
      "outputs": [
        {
          "output_type": "execute_result",
          "data": {
            "text/plain": [
              "         Date      Open      High       Low     Close  Adj Close     Volume\n",
              "0  2009-02-02  8.365616  8.633634  8.308308  8.522773   8.522773  208067724\n",
              "1  2009-02-03  8.572823  8.583584  8.354104  8.519770   8.519770  261997740\n",
              "2  2009-02-04  8.510260  8.869870  8.487738  8.583584   8.583584  272423304\n",
              "3  2009-02-05  8.531281  8.893393  8.433433  8.851852   8.851852  290285424\n",
              "4  2009-02-06  8.920420  9.354605  8.894895  9.291291   9.291291  281242476"
            ],
            "text/html": [
              "\n",
              "  <div id=\"df-3b02df7d-a6d3-49eb-8946-b16a86708fc1\" class=\"colab-df-container\">\n",
              "    <div>\n",
              "<style scoped>\n",
              "    .dataframe tbody tr th:only-of-type {\n",
              "        vertical-align: middle;\n",
              "    }\n",
              "\n",
              "    .dataframe tbody tr th {\n",
              "        vertical-align: top;\n",
              "    }\n",
              "\n",
              "    .dataframe thead th {\n",
              "        text-align: right;\n",
              "    }\n",
              "</style>\n",
              "<table border=\"1\" class=\"dataframe\">\n",
              "  <thead>\n",
              "    <tr style=\"text-align: right;\">\n",
              "      <th></th>\n",
              "      <th>Date</th>\n",
              "      <th>Open</th>\n",
              "      <th>High</th>\n",
              "      <th>Low</th>\n",
              "      <th>Close</th>\n",
              "      <th>Adj Close</th>\n",
              "      <th>Volume</th>\n",
              "    </tr>\n",
              "  </thead>\n",
              "  <tbody>\n",
              "    <tr>\n",
              "      <th>0</th>\n",
              "      <td>2009-02-02</td>\n",
              "      <td>8.365616</td>\n",
              "      <td>8.633634</td>\n",
              "      <td>8.308308</td>\n",
              "      <td>8.522773</td>\n",
              "      <td>8.522773</td>\n",
              "      <td>208067724</td>\n",
              "    </tr>\n",
              "    <tr>\n",
              "      <th>1</th>\n",
              "      <td>2009-02-03</td>\n",
              "      <td>8.572823</td>\n",
              "      <td>8.583584</td>\n",
              "      <td>8.354104</td>\n",
              "      <td>8.519770</td>\n",
              "      <td>8.519770</td>\n",
              "      <td>261997740</td>\n",
              "    </tr>\n",
              "    <tr>\n",
              "      <th>2</th>\n",
              "      <td>2009-02-04</td>\n",
              "      <td>8.510260</td>\n",
              "      <td>8.869870</td>\n",
              "      <td>8.487738</td>\n",
              "      <td>8.583584</td>\n",
              "      <td>8.583584</td>\n",
              "      <td>272423304</td>\n",
              "    </tr>\n",
              "    <tr>\n",
              "      <th>3</th>\n",
              "      <td>2009-02-05</td>\n",
              "      <td>8.531281</td>\n",
              "      <td>8.893393</td>\n",
              "      <td>8.433433</td>\n",
              "      <td>8.851852</td>\n",
              "      <td>8.851852</td>\n",
              "      <td>290285424</td>\n",
              "    </tr>\n",
              "    <tr>\n",
              "      <th>4</th>\n",
              "      <td>2009-02-06</td>\n",
              "      <td>8.920420</td>\n",
              "      <td>9.354605</td>\n",
              "      <td>8.894895</td>\n",
              "      <td>9.291291</td>\n",
              "      <td>9.291291</td>\n",
              "      <td>281242476</td>\n",
              "    </tr>\n",
              "  </tbody>\n",
              "</table>\n",
              "</div>\n",
              "    <div class=\"colab-df-buttons\">\n",
              "\n",
              "  <div class=\"colab-df-container\">\n",
              "    <button class=\"colab-df-convert\" onclick=\"convertToInteractive('df-3b02df7d-a6d3-49eb-8946-b16a86708fc1')\"\n",
              "            title=\"Convert this dataframe to an interactive table.\"\n",
              "            style=\"display:none;\">\n",
              "\n",
              "  <svg xmlns=\"http://www.w3.org/2000/svg\" height=\"24px\" viewBox=\"0 -960 960 960\">\n",
              "    <path d=\"M120-120v-720h720v720H120Zm60-500h600v-160H180v160Zm220 220h160v-160H400v160Zm0 220h160v-160H400v160ZM180-400h160v-160H180v160Zm440 0h160v-160H620v160ZM180-180h160v-160H180v160Zm440 0h160v-160H620v160Z\"/>\n",
              "  </svg>\n",
              "    </button>\n",
              "\n",
              "  <style>\n",
              "    .colab-df-container {\n",
              "      display:flex;\n",
              "      gap: 12px;\n",
              "    }\n",
              "\n",
              "    .colab-df-convert {\n",
              "      background-color: #E8F0FE;\n",
              "      border: none;\n",
              "      border-radius: 50%;\n",
              "      cursor: pointer;\n",
              "      display: none;\n",
              "      fill: #1967D2;\n",
              "      height: 32px;\n",
              "      padding: 0 0 0 0;\n",
              "      width: 32px;\n",
              "    }\n",
              "\n",
              "    .colab-df-convert:hover {\n",
              "      background-color: #E2EBFA;\n",
              "      box-shadow: 0px 1px 2px rgba(60, 64, 67, 0.3), 0px 1px 3px 1px rgba(60, 64, 67, 0.15);\n",
              "      fill: #174EA6;\n",
              "    }\n",
              "\n",
              "    .colab-df-buttons div {\n",
              "      margin-bottom: 4px;\n",
              "    }\n",
              "\n",
              "    [theme=dark] .colab-df-convert {\n",
              "      background-color: #3B4455;\n",
              "      fill: #D2E3FC;\n",
              "    }\n",
              "\n",
              "    [theme=dark] .colab-df-convert:hover {\n",
              "      background-color: #434B5C;\n",
              "      box-shadow: 0px 1px 3px 1px rgba(0, 0, 0, 0.15);\n",
              "      filter: drop-shadow(0px 1px 2px rgba(0, 0, 0, 0.3));\n",
              "      fill: #FFFFFF;\n",
              "    }\n",
              "  </style>\n",
              "\n",
              "    <script>\n",
              "      const buttonEl =\n",
              "        document.querySelector('#df-3b02df7d-a6d3-49eb-8946-b16a86708fc1 button.colab-df-convert');\n",
              "      buttonEl.style.display =\n",
              "        google.colab.kernel.accessAllowed ? 'block' : 'none';\n",
              "\n",
              "      async function convertToInteractive(key) {\n",
              "        const element = document.querySelector('#df-3b02df7d-a6d3-49eb-8946-b16a86708fc1');\n",
              "        const dataTable =\n",
              "          await google.colab.kernel.invokeFunction('convertToInteractive',\n",
              "                                                    [key], {});\n",
              "        if (!dataTable) return;\n",
              "\n",
              "        const docLinkHtml = 'Like what you see? Visit the ' +\n",
              "          '<a target=\"_blank\" href=https://colab.research.google.com/notebooks/data_table.ipynb>data table notebook</a>'\n",
              "          + ' to learn more about interactive tables.';\n",
              "        element.innerHTML = '';\n",
              "        dataTable['output_type'] = 'display_data';\n",
              "        await google.colab.output.renderOutput(dataTable, element);\n",
              "        const docLink = document.createElement('div');\n",
              "        docLink.innerHTML = docLinkHtml;\n",
              "        element.appendChild(docLink);\n",
              "      }\n",
              "    </script>\n",
              "  </div>\n",
              "\n",
              "\n",
              "<div id=\"df-29f5f588-b68f-4afe-a45b-6d9e0fbcab95\">\n",
              "  <button class=\"colab-df-quickchart\" onclick=\"quickchart('df-29f5f588-b68f-4afe-a45b-6d9e0fbcab95')\"\n",
              "            title=\"Suggest charts\"\n",
              "            style=\"display:none;\">\n",
              "\n",
              "<svg xmlns=\"http://www.w3.org/2000/svg\" height=\"24px\"viewBox=\"0 0 24 24\"\n",
              "     width=\"24px\">\n",
              "    <g>\n",
              "        <path d=\"M19 3H5c-1.1 0-2 .9-2 2v14c0 1.1.9 2 2 2h14c1.1 0 2-.9 2-2V5c0-1.1-.9-2-2-2zM9 17H7v-7h2v7zm4 0h-2V7h2v10zm4 0h-2v-4h2v4z\"/>\n",
              "    </g>\n",
              "</svg>\n",
              "  </button>\n",
              "\n",
              "<style>\n",
              "  .colab-df-quickchart {\n",
              "      --bg-color: #E8F0FE;\n",
              "      --fill-color: #1967D2;\n",
              "      --hover-bg-color: #E2EBFA;\n",
              "      --hover-fill-color: #174EA6;\n",
              "      --disabled-fill-color: #AAA;\n",
              "      --disabled-bg-color: #DDD;\n",
              "  }\n",
              "\n",
              "  [theme=dark] .colab-df-quickchart {\n",
              "      --bg-color: #3B4455;\n",
              "      --fill-color: #D2E3FC;\n",
              "      --hover-bg-color: #434B5C;\n",
              "      --hover-fill-color: #FFFFFF;\n",
              "      --disabled-bg-color: #3B4455;\n",
              "      --disabled-fill-color: #666;\n",
              "  }\n",
              "\n",
              "  .colab-df-quickchart {\n",
              "    background-color: var(--bg-color);\n",
              "    border: none;\n",
              "    border-radius: 50%;\n",
              "    cursor: pointer;\n",
              "    display: none;\n",
              "    fill: var(--fill-color);\n",
              "    height: 32px;\n",
              "    padding: 0;\n",
              "    width: 32px;\n",
              "  }\n",
              "\n",
              "  .colab-df-quickchart:hover {\n",
              "    background-color: var(--hover-bg-color);\n",
              "    box-shadow: 0 1px 2px rgba(60, 64, 67, 0.3), 0 1px 3px 1px rgba(60, 64, 67, 0.15);\n",
              "    fill: var(--button-hover-fill-color);\n",
              "  }\n",
              "\n",
              "  .colab-df-quickchart-complete:disabled,\n",
              "  .colab-df-quickchart-complete:disabled:hover {\n",
              "    background-color: var(--disabled-bg-color);\n",
              "    fill: var(--disabled-fill-color);\n",
              "    box-shadow: none;\n",
              "  }\n",
              "\n",
              "  .colab-df-spinner {\n",
              "    border: 2px solid var(--fill-color);\n",
              "    border-color: transparent;\n",
              "    border-bottom-color: var(--fill-color);\n",
              "    animation:\n",
              "      spin 1s steps(1) infinite;\n",
              "  }\n",
              "\n",
              "  @keyframes spin {\n",
              "    0% {\n",
              "      border-color: transparent;\n",
              "      border-bottom-color: var(--fill-color);\n",
              "      border-left-color: var(--fill-color);\n",
              "    }\n",
              "    20% {\n",
              "      border-color: transparent;\n",
              "      border-left-color: var(--fill-color);\n",
              "      border-top-color: var(--fill-color);\n",
              "    }\n",
              "    30% {\n",
              "      border-color: transparent;\n",
              "      border-left-color: var(--fill-color);\n",
              "      border-top-color: var(--fill-color);\n",
              "      border-right-color: var(--fill-color);\n",
              "    }\n",
              "    40% {\n",
              "      border-color: transparent;\n",
              "      border-right-color: var(--fill-color);\n",
              "      border-top-color: var(--fill-color);\n",
              "    }\n",
              "    60% {\n",
              "      border-color: transparent;\n",
              "      border-right-color: var(--fill-color);\n",
              "    }\n",
              "    80% {\n",
              "      border-color: transparent;\n",
              "      border-right-color: var(--fill-color);\n",
              "      border-bottom-color: var(--fill-color);\n",
              "    }\n",
              "    90% {\n",
              "      border-color: transparent;\n",
              "      border-bottom-color: var(--fill-color);\n",
              "    }\n",
              "  }\n",
              "</style>\n",
              "\n",
              "  <script>\n",
              "    async function quickchart(key) {\n",
              "      const quickchartButtonEl =\n",
              "        document.querySelector('#' + key + ' button');\n",
              "      quickchartButtonEl.disabled = true;  // To prevent multiple clicks.\n",
              "      quickchartButtonEl.classList.add('colab-df-spinner');\n",
              "      try {\n",
              "        const charts = await google.colab.kernel.invokeFunction(\n",
              "            'suggestCharts', [key], {});\n",
              "      } catch (error) {\n",
              "        console.error('Error during call to suggestCharts:', error);\n",
              "      }\n",
              "      quickchartButtonEl.classList.remove('colab-df-spinner');\n",
              "      quickchartButtonEl.classList.add('colab-df-quickchart-complete');\n",
              "    }\n",
              "    (() => {\n",
              "      let quickchartButtonEl =\n",
              "        document.querySelector('#df-29f5f588-b68f-4afe-a45b-6d9e0fbcab95 button');\n",
              "      quickchartButtonEl.style.display =\n",
              "        google.colab.kernel.accessAllowed ? 'block' : 'none';\n",
              "    })();\n",
              "  </script>\n",
              "</div>\n",
              "\n",
              "    </div>\n",
              "  </div>\n"
            ],
            "application/vnd.google.colaboratory.intrinsic+json": {
              "type": "dataframe",
              "variable_name": "data",
              "summary": "{\n  \"name\": \"data\",\n  \"rows\": 3774,\n  \"fields\": [\n    {\n      \"column\": \"Date\",\n      \"properties\": {\n        \"dtype\": \"object\",\n        \"num_unique_values\": 3774,\n        \"samples\": [\n          \"2009-06-16\",\n          \"2024-01-26\",\n          \"2019-07-24\"\n        ],\n        \"semantic_type\": \"\",\n        \"description\": \"\"\n      }\n    },\n    {\n      \"column\": \"Open\",\n      \"properties\": {\n        \"dtype\": \"number\",\n        \"std\": 39.706664240754264,\n        \"min\": 7.463714,\n        \"max\": 152.800003,\n        \"num_unique_values\": 3677,\n        \"samples\": [\n          49.764999,\n          37.8825,\n          138.419998\n        ],\n        \"semantic_type\": \"\",\n        \"description\": \"\"\n      }\n    },\n    {\n      \"column\": \"High\",\n      \"properties\": {\n        \"dtype\": \"number\",\n        \"std\": 40.17055727106234,\n        \"min\": 7.671922,\n        \"max\": 153.779999,\n        \"num_unique_values\": 3664,\n        \"samples\": [\n          51.935001,\n          62.401001,\n          49.881001\n        ],\n        \"semantic_type\": \"\",\n        \"description\": \"\"\n      }\n    },\n    {\n      \"column\": \"Low\",\n      \"properties\": {\n        \"dtype\": \"number\",\n        \"std\": 39.274627515246316,\n        \"min\": 7.243493,\n        \"max\": 151.429993,\n        \"num_unique_values\": 3692,\n        \"samples\": [\n          11.323824,\n          119.230003,\n          13.063313\n        ],\n        \"semantic_type\": \"\",\n        \"description\": \"\"\n      }\n    },\n    {\n      \"column\": \"Close\",\n      \"properties\": {\n        \"dtype\": \"number\",\n        \"std\": 39.73147732089713,\n        \"min\": 7.27953,\n        \"max\": 153.509995,\n        \"num_unique_values\": 3720,\n        \"samples\": [\n          18.931431,\n          134.571503,\n          55.0\n        ],\n        \"semantic_type\": \"\",\n        \"description\": \"\"\n      }\n    },\n    {\n      \"column\": \"Adj Close\",\n      \"properties\": {\n        \"dtype\": \"number\",\n        \"std\": 39.73147732089713,\n        \"min\": 7.27953,\n        \"max\": 153.509995,\n        \"num_unique_values\": 3720,\n        \"samples\": [\n          18.931431,\n          134.571503,\n          55.0\n        ],\n        \"semantic_type\": \"\",\n        \"description\": \"\"\n      }\n    },\n    {\n      \"column\": \"Volume\",\n      \"properties\": {\n        \"dtype\": \"number\",\n        \"std\": 52667026,\n        \"min\": 9312000,\n        \"max\": 592399008,\n        \"num_unique_values\": 3658,\n        \"samples\": [\n          183104712,\n          59574000,\n          89941968\n        ],\n        \"semantic_type\": \"\",\n        \"description\": \"\"\n      }\n    }\n  ]\n}"
            }
          },
          "metadata": {},
          "execution_count": 5
        }
      ]
    },
    {
      "cell_type": "markdown",
      "source": [
        "**Variables Disponibles:**\n",
        "\n",
        "* Date: Representa la fecha en la que se registraron los datos de la acción.\n",
        "\n",
        "* Open: Este valor indica el precio de apertura de la acción en el mercado en la fecha específica.\n",
        "\n",
        "* High: El valor más alto que alcanzó la acción durante el día de negociación.\n",
        "\n",
        "* Low: El valor más bajo que alcanzó la acción durante el día de negociación.\n",
        "\n",
        "* Close: El precio de cierre de las acciones en el día.\n",
        "\n",
        "* Adj Close (Adjusted Close): El precio de cierre ajustado por eventos corporativos como dividendos o divisiones de acciones.\n",
        "\n",
        "* Volume: El volumen de acciones negociadas en el día."
      ],
      "metadata": {
        "id": "88h69wMnsZuc"
      }
    },
    {
      "cell_type": "code",
      "source": [
        "#Obtenemos más información sobre las columnas\n",
        "data.info()"
      ],
      "metadata": {
        "colab": {
          "base_uri": "https://localhost:8080/"
        },
        "id": "D5p1IxmjeEdg",
        "outputId": "ef55f574-c7d0-40df-e5a3-38270c23b851"
      },
      "execution_count": null,
      "outputs": [
        {
          "output_type": "stream",
          "name": "stdout",
          "text": [
            "<class 'pandas.core.frame.DataFrame'>\n",
            "RangeIndex: 3774 entries, 0 to 3773\n",
            "Data columns (total 7 columns):\n",
            " #   Column     Non-Null Count  Dtype  \n",
            "---  ------     --------------  -----  \n",
            " 0   Date       3774 non-null   object \n",
            " 1   Open       3774 non-null   float64\n",
            " 2   High       3774 non-null   float64\n",
            " 3   Low        3774 non-null   float64\n",
            " 4   Close      3774 non-null   float64\n",
            " 5   Adj Close  3774 non-null   float64\n",
            " 6   Volume     3774 non-null   int64  \n",
            "dtypes: float64(5), int64(1), object(1)\n",
            "memory usage: 206.5+ KB\n"
          ]
        }
      ]
    },
    {
      "cell_type": "markdown",
      "source": [
        "No tenemos valores nulos en nuestro dataset, por lo que no es necesario realizar una limpieza en el documento, dado que cada columna contiene los mismos 3774 valores y ninguno está vacío."
      ],
      "metadata": {
        "id": "OANlQsykeiaT"
      }
    },
    {
      "cell_type": "markdown",
      "source": [
        "#Machine learning#"
      ],
      "metadata": {
        "id": "7kIlzsp8WqIp"
      }
    },
    {
      "cell_type": "markdown",
      "source": [
        "Dado que anteriormente ya hicimos un procesamiento y análisis de los datos, a partir de ahora vamos a implementar a nuestro proyecto Machine Learning con el fin de identificar patrones y tener respuestas a nuestras preguntas iniciales. Para esto necesitamos un conjunto de datos el cuál ya tenemos procesado, necesitamos elegir un modelo, particionar los datos y con estas entrenar, validar y probar el modelo para finalmente realizar nuestras predicciones.\n"
      ],
      "metadata": {
        "id": "-UG7cVLNW2Fi"
      }
    },
    {
      "cell_type": "markdown",
      "source": [
        "**Definición del proyecto de Machine Learning:**\n",
        "\n",
        "**Problema:** ¿Cuál es el mejor momento para comprar una acción?\n",
        "\n",
        "**Datos:** Serán los que tenemos procesados desde el módulo anterior guardados en la variable 'data'.\n",
        "\n",
        "**Selección del modelo y entrenamiento:** Vamos a implementar modelos de Machine Learning tanto como supervisados como no supervisados y según las medidas de error escoger el mejor.\n",
        "\n",
        "**Validación y evaluación:** Este paso será realizado en cada uno de los modelos implementados.\n",
        "\n",
        "---\n",
        "\n"
      ],
      "metadata": {
        "id": "eN_HHmagK7ZE"
      }
    },
    {
      "cell_type": "code",
      "source": [
        "#Filtraremos los datos para usarlos en ciertos algoritmos que solo reciben datos numéricos\n",
        "df_filtered = df_date.copy()\n",
        "df_filtered = df_filtered.drop(columns=['Date','Porcentaje'])\n",
        "print(df_filtered.shape)\n",
        "df_filtered.head()"
      ],
      "metadata": {
        "id": "nIJdonLrPLgw",
        "colab": {
          "base_uri": "https://localhost:8080/",
          "height": 224
        },
        "outputId": "d734cefb-8a1f-41c9-a45b-496df55ec02b"
      },
      "execution_count": null,
      "outputs": [
        {
          "output_type": "stream",
          "name": "stdout",
          "text": [
            "(3774, 9)\n"
          ]
        },
        {
          "output_type": "execute_result",
          "data": {
            "text/plain": [
              "       Open      High       Low     Close  Adj Close     Volume  Year  Month  \\\n",
              "0  8.365616  8.633634  8.308308  8.522773   8.522773  208067724  2009      2   \n",
              "1  8.572823  8.583584  8.354104  8.519770   8.519770  261997740  2009      2   \n",
              "2  8.510260  8.869870  8.487738  8.583584   8.583584  272423304  2009      2   \n",
              "3  8.531281  8.893393  8.433433  8.851852   8.851852  290285424  2009      2   \n",
              "4  8.920420  9.354605  8.894895  9.291291   9.291291  281242476  2009      2   \n",
              "\n",
              "   Day  \n",
              "0    2  \n",
              "1    3  \n",
              "2    4  \n",
              "3    5  \n",
              "4    6  "
            ],
            "text/html": [
              "\n",
              "  <div id=\"df-34f38c36-94e9-455c-a061-986abf1d55e1\" class=\"colab-df-container\">\n",
              "    <div>\n",
              "<style scoped>\n",
              "    .dataframe tbody tr th:only-of-type {\n",
              "        vertical-align: middle;\n",
              "    }\n",
              "\n",
              "    .dataframe tbody tr th {\n",
              "        vertical-align: top;\n",
              "    }\n",
              "\n",
              "    .dataframe thead th {\n",
              "        text-align: right;\n",
              "    }\n",
              "</style>\n",
              "<table border=\"1\" class=\"dataframe\">\n",
              "  <thead>\n",
              "    <tr style=\"text-align: right;\">\n",
              "      <th></th>\n",
              "      <th>Open</th>\n",
              "      <th>High</th>\n",
              "      <th>Low</th>\n",
              "      <th>Close</th>\n",
              "      <th>Adj Close</th>\n",
              "      <th>Volume</th>\n",
              "      <th>Year</th>\n",
              "      <th>Month</th>\n",
              "      <th>Day</th>\n",
              "    </tr>\n",
              "  </thead>\n",
              "  <tbody>\n",
              "    <tr>\n",
              "      <th>0</th>\n",
              "      <td>8.365616</td>\n",
              "      <td>8.633634</td>\n",
              "      <td>8.308308</td>\n",
              "      <td>8.522773</td>\n",
              "      <td>8.522773</td>\n",
              "      <td>208067724</td>\n",
              "      <td>2009</td>\n",
              "      <td>2</td>\n",
              "      <td>2</td>\n",
              "    </tr>\n",
              "    <tr>\n",
              "      <th>1</th>\n",
              "      <td>8.572823</td>\n",
              "      <td>8.583584</td>\n",
              "      <td>8.354104</td>\n",
              "      <td>8.519770</td>\n",
              "      <td>8.519770</td>\n",
              "      <td>261997740</td>\n",
              "      <td>2009</td>\n",
              "      <td>2</td>\n",
              "      <td>3</td>\n",
              "    </tr>\n",
              "    <tr>\n",
              "      <th>2</th>\n",
              "      <td>8.510260</td>\n",
              "      <td>8.869870</td>\n",
              "      <td>8.487738</td>\n",
              "      <td>8.583584</td>\n",
              "      <td>8.583584</td>\n",
              "      <td>272423304</td>\n",
              "      <td>2009</td>\n",
              "      <td>2</td>\n",
              "      <td>4</td>\n",
              "    </tr>\n",
              "    <tr>\n",
              "      <th>3</th>\n",
              "      <td>8.531281</td>\n",
              "      <td>8.893393</td>\n",
              "      <td>8.433433</td>\n",
              "      <td>8.851852</td>\n",
              "      <td>8.851852</td>\n",
              "      <td>290285424</td>\n",
              "      <td>2009</td>\n",
              "      <td>2</td>\n",
              "      <td>5</td>\n",
              "    </tr>\n",
              "    <tr>\n",
              "      <th>4</th>\n",
              "      <td>8.920420</td>\n",
              "      <td>9.354605</td>\n",
              "      <td>8.894895</td>\n",
              "      <td>9.291291</td>\n",
              "      <td>9.291291</td>\n",
              "      <td>281242476</td>\n",
              "      <td>2009</td>\n",
              "      <td>2</td>\n",
              "      <td>6</td>\n",
              "    </tr>\n",
              "  </tbody>\n",
              "</table>\n",
              "</div>\n",
              "    <div class=\"colab-df-buttons\">\n",
              "\n",
              "  <div class=\"colab-df-container\">\n",
              "    <button class=\"colab-df-convert\" onclick=\"convertToInteractive('df-34f38c36-94e9-455c-a061-986abf1d55e1')\"\n",
              "            title=\"Convert this dataframe to an interactive table.\"\n",
              "            style=\"display:none;\">\n",
              "\n",
              "  <svg xmlns=\"http://www.w3.org/2000/svg\" height=\"24px\" viewBox=\"0 -960 960 960\">\n",
              "    <path d=\"M120-120v-720h720v720H120Zm60-500h600v-160H180v160Zm220 220h160v-160H400v160Zm0 220h160v-160H400v160ZM180-400h160v-160H180v160Zm440 0h160v-160H620v160ZM180-180h160v-160H180v160Zm440 0h160v-160H620v160Z\"/>\n",
              "  </svg>\n",
              "    </button>\n",
              "\n",
              "  <style>\n",
              "    .colab-df-container {\n",
              "      display:flex;\n",
              "      gap: 12px;\n",
              "    }\n",
              "\n",
              "    .colab-df-convert {\n",
              "      background-color: #E8F0FE;\n",
              "      border: none;\n",
              "      border-radius: 50%;\n",
              "      cursor: pointer;\n",
              "      display: none;\n",
              "      fill: #1967D2;\n",
              "      height: 32px;\n",
              "      padding: 0 0 0 0;\n",
              "      width: 32px;\n",
              "    }\n",
              "\n",
              "    .colab-df-convert:hover {\n",
              "      background-color: #E2EBFA;\n",
              "      box-shadow: 0px 1px 2px rgba(60, 64, 67, 0.3), 0px 1px 3px 1px rgba(60, 64, 67, 0.15);\n",
              "      fill: #174EA6;\n",
              "    }\n",
              "\n",
              "    .colab-df-buttons div {\n",
              "      margin-bottom: 4px;\n",
              "    }\n",
              "\n",
              "    [theme=dark] .colab-df-convert {\n",
              "      background-color: #3B4455;\n",
              "      fill: #D2E3FC;\n",
              "    }\n",
              "\n",
              "    [theme=dark] .colab-df-convert:hover {\n",
              "      background-color: #434B5C;\n",
              "      box-shadow: 0px 1px 3px 1px rgba(0, 0, 0, 0.15);\n",
              "      filter: drop-shadow(0px 1px 2px rgba(0, 0, 0, 0.3));\n",
              "      fill: #FFFFFF;\n",
              "    }\n",
              "  </style>\n",
              "\n",
              "    <script>\n",
              "      const buttonEl =\n",
              "        document.querySelector('#df-34f38c36-94e9-455c-a061-986abf1d55e1 button.colab-df-convert');\n",
              "      buttonEl.style.display =\n",
              "        google.colab.kernel.accessAllowed ? 'block' : 'none';\n",
              "\n",
              "      async function convertToInteractive(key) {\n",
              "        const element = document.querySelector('#df-34f38c36-94e9-455c-a061-986abf1d55e1');\n",
              "        const dataTable =\n",
              "          await google.colab.kernel.invokeFunction('convertToInteractive',\n",
              "                                                    [key], {});\n",
              "        if (!dataTable) return;\n",
              "\n",
              "        const docLinkHtml = 'Like what you see? Visit the ' +\n",
              "          '<a target=\"_blank\" href=https://colab.research.google.com/notebooks/data_table.ipynb>data table notebook</a>'\n",
              "          + ' to learn more about interactive tables.';\n",
              "        element.innerHTML = '';\n",
              "        dataTable['output_type'] = 'display_data';\n",
              "        await google.colab.output.renderOutput(dataTable, element);\n",
              "        const docLink = document.createElement('div');\n",
              "        docLink.innerHTML = docLinkHtml;\n",
              "        element.appendChild(docLink);\n",
              "      }\n",
              "    </script>\n",
              "  </div>\n",
              "\n",
              "\n",
              "<div id=\"df-e9387542-ca86-4f18-972c-384445d1787c\">\n",
              "  <button class=\"colab-df-quickchart\" onclick=\"quickchart('df-e9387542-ca86-4f18-972c-384445d1787c')\"\n",
              "            title=\"Suggest charts\"\n",
              "            style=\"display:none;\">\n",
              "\n",
              "<svg xmlns=\"http://www.w3.org/2000/svg\" height=\"24px\"viewBox=\"0 0 24 24\"\n",
              "     width=\"24px\">\n",
              "    <g>\n",
              "        <path d=\"M19 3H5c-1.1 0-2 .9-2 2v14c0 1.1.9 2 2 2h14c1.1 0 2-.9 2-2V5c0-1.1-.9-2-2-2zM9 17H7v-7h2v7zm4 0h-2V7h2v10zm4 0h-2v-4h2v4z\"/>\n",
              "    </g>\n",
              "</svg>\n",
              "  </button>\n",
              "\n",
              "<style>\n",
              "  .colab-df-quickchart {\n",
              "      --bg-color: #E8F0FE;\n",
              "      --fill-color: #1967D2;\n",
              "      --hover-bg-color: #E2EBFA;\n",
              "      --hover-fill-color: #174EA6;\n",
              "      --disabled-fill-color: #AAA;\n",
              "      --disabled-bg-color: #DDD;\n",
              "  }\n",
              "\n",
              "  [theme=dark] .colab-df-quickchart {\n",
              "      --bg-color: #3B4455;\n",
              "      --fill-color: #D2E3FC;\n",
              "      --hover-bg-color: #434B5C;\n",
              "      --hover-fill-color: #FFFFFF;\n",
              "      --disabled-bg-color: #3B4455;\n",
              "      --disabled-fill-color: #666;\n",
              "  }\n",
              "\n",
              "  .colab-df-quickchart {\n",
              "    background-color: var(--bg-color);\n",
              "    border: none;\n",
              "    border-radius: 50%;\n",
              "    cursor: pointer;\n",
              "    display: none;\n",
              "    fill: var(--fill-color);\n",
              "    height: 32px;\n",
              "    padding: 0;\n",
              "    width: 32px;\n",
              "  }\n",
              "\n",
              "  .colab-df-quickchart:hover {\n",
              "    background-color: var(--hover-bg-color);\n",
              "    box-shadow: 0 1px 2px rgba(60, 64, 67, 0.3), 0 1px 3px 1px rgba(60, 64, 67, 0.15);\n",
              "    fill: var(--button-hover-fill-color);\n",
              "  }\n",
              "\n",
              "  .colab-df-quickchart-complete:disabled,\n",
              "  .colab-df-quickchart-complete:disabled:hover {\n",
              "    background-color: var(--disabled-bg-color);\n",
              "    fill: var(--disabled-fill-color);\n",
              "    box-shadow: none;\n",
              "  }\n",
              "\n",
              "  .colab-df-spinner {\n",
              "    border: 2px solid var(--fill-color);\n",
              "    border-color: transparent;\n",
              "    border-bottom-color: var(--fill-color);\n",
              "    animation:\n",
              "      spin 1s steps(1) infinite;\n",
              "  }\n",
              "\n",
              "  @keyframes spin {\n",
              "    0% {\n",
              "      border-color: transparent;\n",
              "      border-bottom-color: var(--fill-color);\n",
              "      border-left-color: var(--fill-color);\n",
              "    }\n",
              "    20% {\n",
              "      border-color: transparent;\n",
              "      border-left-color: var(--fill-color);\n",
              "      border-top-color: var(--fill-color);\n",
              "    }\n",
              "    30% {\n",
              "      border-color: transparent;\n",
              "      border-left-color: var(--fill-color);\n",
              "      border-top-color: var(--fill-color);\n",
              "      border-right-color: var(--fill-color);\n",
              "    }\n",
              "    40% {\n",
              "      border-color: transparent;\n",
              "      border-right-color: var(--fill-color);\n",
              "      border-top-color: var(--fill-color);\n",
              "    }\n",
              "    60% {\n",
              "      border-color: transparent;\n",
              "      border-right-color: var(--fill-color);\n",
              "    }\n",
              "    80% {\n",
              "      border-color: transparent;\n",
              "      border-right-color: var(--fill-color);\n",
              "      border-bottom-color: var(--fill-color);\n",
              "    }\n",
              "    90% {\n",
              "      border-color: transparent;\n",
              "      border-bottom-color: var(--fill-color);\n",
              "    }\n",
              "  }\n",
              "</style>\n",
              "\n",
              "  <script>\n",
              "    async function quickchart(key) {\n",
              "      const quickchartButtonEl =\n",
              "        document.querySelector('#' + key + ' button');\n",
              "      quickchartButtonEl.disabled = true;  // To prevent multiple clicks.\n",
              "      quickchartButtonEl.classList.add('colab-df-spinner');\n",
              "      try {\n",
              "        const charts = await google.colab.kernel.invokeFunction(\n",
              "            'suggestCharts', [key], {});\n",
              "      } catch (error) {\n",
              "        console.error('Error during call to suggestCharts:', error);\n",
              "      }\n",
              "      quickchartButtonEl.classList.remove('colab-df-spinner');\n",
              "      quickchartButtonEl.classList.add('colab-df-quickchart-complete');\n",
              "    }\n",
              "    (() => {\n",
              "      let quickchartButtonEl =\n",
              "        document.querySelector('#df-e9387542-ca86-4f18-972c-384445d1787c button');\n",
              "      quickchartButtonEl.style.display =\n",
              "        google.colab.kernel.accessAllowed ? 'block' : 'none';\n",
              "    })();\n",
              "  </script>\n",
              "</div>\n",
              "\n",
              "    </div>\n",
              "  </div>\n"
            ],
            "application/vnd.google.colaboratory.intrinsic+json": {
              "type": "dataframe",
              "variable_name": "df_filtered",
              "summary": "{\n  \"name\": \"df_filtered\",\n  \"rows\": 3774,\n  \"fields\": [\n    {\n      \"column\": \"Open\",\n      \"properties\": {\n        \"dtype\": \"number\",\n        \"std\": 39.706664240754264,\n        \"min\": 7.463714,\n        \"max\": 152.800003,\n        \"num_unique_values\": 3677,\n        \"samples\": [\n          49.764999,\n          37.8825,\n          138.419998\n        ],\n        \"semantic_type\": \"\",\n        \"description\": \"\"\n      }\n    },\n    {\n      \"column\": \"High\",\n      \"properties\": {\n        \"dtype\": \"number\",\n        \"std\": 40.17055727106234,\n        \"min\": 7.671922,\n        \"max\": 153.779999,\n        \"num_unique_values\": 3664,\n        \"samples\": [\n          51.935001,\n          62.401001,\n          49.881001\n        ],\n        \"semantic_type\": \"\",\n        \"description\": \"\"\n      }\n    },\n    {\n      \"column\": \"Low\",\n      \"properties\": {\n        \"dtype\": \"number\",\n        \"std\": 39.274627515246316,\n        \"min\": 7.243493,\n        \"max\": 151.429993,\n        \"num_unique_values\": 3692,\n        \"samples\": [\n          11.323824,\n          119.230003,\n          13.063313\n        ],\n        \"semantic_type\": \"\",\n        \"description\": \"\"\n      }\n    },\n    {\n      \"column\": \"Close\",\n      \"properties\": {\n        \"dtype\": \"number\",\n        \"std\": 39.73147732089713,\n        \"min\": 7.27953,\n        \"max\": 153.509995,\n        \"num_unique_values\": 3720,\n        \"samples\": [\n          18.931431,\n          134.571503,\n          55.0\n        ],\n        \"semantic_type\": \"\",\n        \"description\": \"\"\n      }\n    },\n    {\n      \"column\": \"Adj Close\",\n      \"properties\": {\n        \"dtype\": \"number\",\n        \"std\": 39.73147732089713,\n        \"min\": 7.27953,\n        \"max\": 153.509995,\n        \"num_unique_values\": 3720,\n        \"samples\": [\n          18.931431,\n          134.571503,\n          55.0\n        ],\n        \"semantic_type\": \"\",\n        \"description\": \"\"\n      }\n    },\n    {\n      \"column\": \"Volume\",\n      \"properties\": {\n        \"dtype\": \"number\",\n        \"std\": 52667026,\n        \"min\": 9312000,\n        \"max\": 592399008,\n        \"num_unique_values\": 3658,\n        \"samples\": [\n          183104712,\n          59574000,\n          89941968\n        ],\n        \"semantic_type\": \"\",\n        \"description\": \"\"\n      }\n    },\n    {\n      \"column\": \"Year\",\n      \"properties\": {\n        \"dtype\": \"number\",\n        \"std\": 4,\n        \"min\": 2009,\n        \"max\": 2024,\n        \"num_unique_values\": 16,\n        \"samples\": [\n          2009,\n          2010,\n          2014\n        ],\n        \"semantic_type\": \"\",\n        \"description\": \"\"\n      }\n    },\n    {\n      \"column\": \"Month\",\n      \"properties\": {\n        \"dtype\": \"number\",\n        \"std\": 3,\n        \"min\": 1,\n        \"max\": 12,\n        \"num_unique_values\": 12,\n        \"samples\": [\n          12,\n          11,\n          2\n        ],\n        \"semantic_type\": \"\",\n        \"description\": \"\"\n      }\n    },\n    {\n      \"column\": \"Day\",\n      \"properties\": {\n        \"dtype\": \"number\",\n        \"std\": 8,\n        \"min\": 1,\n        \"max\": 31,\n        \"num_unique_values\": 31,\n        \"samples\": [\n          21,\n          24,\n          7\n        ],\n        \"semantic_type\": \"\",\n        \"description\": \"\"\n      }\n    }\n  ]\n}"
            }
          },
          "metadata": {},
          "execution_count": 68
        }
      ]
    },
    {
      "cell_type": "markdown",
      "source": [
        "**Separación de datos**"
      ],
      "metadata": {
        "id": "AHfP-BAhPIOm"
      }
    },
    {
      "cell_type": "markdown",
      "source": [
        "Este es un paso crucial que implica dividir el conjunto de datos disponible en 3 conjuntos separados para entrenamiento, validación y prueba, esta partición se realiza para evaluar el rendimiento del modelo de manera objetiva y para evitar problemas como el sobreajuste.\n",
        "\n",
        "Vamos a hacer la separación en tres conjuntos:\n",
        "*   Conjunto de entrenamiento (Training set): este se utiliza para entrenar nuestro modelo de ML, el modelo va a ajustar sus parámetros según estos datos para poder aprender patrones y relaciones entre las variables predictoras y las de salida, por lo general este conjunto de datos representa alrededor de un 70-80% del conjunto de datos total.\n",
        "*   Conjunto de validación (Validation set): este se utiliza para ajustar los hiperparámetros del modelo y evitar el sobreajuste. Este es un paso que no vemos realmente pero consiste en que en cada iteración de entrenamiento se evalúa el rendimiento del modelo en este conjutno de datos para tomar decisiones sobre cómo modificar el modelo hasta que este sea adecuado. El tamaño de este conjunto suele ser del 10-15% del conjunto de datos total.\n",
        "*   Conjunto de pruebas (Test set): este se utlizar para evaluar el rendimiento final del modelo después del entrenamiento y la validación, para que sea una evaluación imparcial el modelo nunca debería haber visto estos datos durante el entrenamiento o la validación, el rendimiento del modelo en este conjunto de datos proporciona una estimación objetiva de cómo se desempeñará en datos nuevos y no vistos en el mundo real. El tamaño de este conjunto suele ser del 10-15% del conjunto de datos total.\n",
        "\n",
        "La partición de datos suele realizarse de manera aleatoria, asegurándose de que las distribuciones de las características y las etiquetas sean similares en cada conjunto. Pero si esta partición de datos no se maneja de forma adecuada podría representar problemas tales como:\n",
        "\n",
        "*   Sobreajuste al conjunto de validación: el rendimiento del modelo en datos nuevos podría ser sobreestimado o subestimado.\n",
        "*   Sobreajuste al conjunto de pruebas: esto puede ocurrir si se realizan múltiples iteraciones de ajuste del modelo y evaluación utilizando el conjunto de prueba.\n",
        "*   Falta de representatividad: si los conjuntos de entrenamiento, validación y prueba no representan adecuadamente la distribución de los datos reales, el rendimiento del modelo en datos nuevos puede ser subestimado o sobreestimado.\n",
        "*   Poca cantidad de datos de entrenamiento: si la cantidad de datos de entrenamiento es insuficiente en relación con la complejidad del modelo, el modelo puede no generalizar bien a datos nuevos y puede ser propenso al sobreajuste.\n",
        "*   Fugas de datos (o Data leakage): Si hay filtración de información del conjunto de prueba al conjunto de entrenamiento o validación, esto puede sesgar artificialmente el rendimiento del modelo.\n",
        "*   Desequilibrio de clases: Si hay desequilibrios significativos en la distribución de clases entre los conjuntos de entrenamiento, validación y prueba, el rendimiento del modelo puede verse afectado, especialmente en problemas de clasificación.\n",
        "*   Series temporales: En problemas con datos temporales, **como es nuestro caso**, es importante realizar la partición de datos de manera que los conjuntos de entrenamiento, validación y prueba reflejen adecuadamente la naturaleza temporal de los datos para evitar la contaminación de información futura en los conjuntos de entrenamiento y validación.\n",
        "\n",
        "\n",
        "\n",
        "\n"
      ],
      "metadata": {
        "id": "jRUYOtdIREQ8"
      }
    },
    {
      "cell_type": "markdown",
      "source": [
        "Cómo se mencionó anteriormente en los posibles problemas derivados de la partición de datos debemos tener muy en cuenta que nuestros datos son temporales lo que significa que los datos de momentos posteriores son inheremente diferentes de los datos recopilados en momentos anteriores asi que la partición de nuestros datos debe reflejar esta naturaleza temporal para evitar problemas, entonces para realizar nuestra partición podríamos hacer una partición basada en el tiempo, evitar fugas de datos y/o usar validación cruzada temporal."
      ],
      "metadata": {
        "id": "npMZvT0FQAjN"
      }
    },
    {
      "cell_type": "code",
      "source": [
        "#Partición en entrenamiento y prueba\n",
        "def train_test(entradas,salidas,test_size,random):\n",
        "  x_train, x_test, y_train, y_test = train_test_split(entradas, salidas, test_size =test_size, random_state=random)\n",
        "  return x_train, x_test, y_train, y_test"
      ],
      "metadata": {
        "id": "KEF2__KLWshA"
      },
      "execution_count": null,
      "outputs": []
    },
    {
      "cell_type": "code",
      "source": [
        "#Particionar con validación cruzada\n",
        "def k_fold(K,aleatorio,random_seed):\n",
        "  kfold = KFold(n_splits= K, shuffle=aleatorio, random_state=random_seed)\n",
        "  return kfold"
      ],
      "metadata": {
        "id": "DnH8DVFkkRC3"
      },
      "execution_count": null,
      "outputs": []
    },
    {
      "cell_type": "markdown",
      "source": [
        "**Entrenamiento** K-means"
      ],
      "metadata": {
        "id": "qkS0L4tHDCss"
      }
    },
    {
      "cell_type": "code",
      "source": [
        "import numpy as np\n",
        "import pandas as pd\n",
        "import seaborn as sns\n",
        "#Librerias de ML\n",
        "from matplotlib import pyplot as plt\n",
        "from sklearn.datasets import make_blobs\n",
        "from sklearn.model_selection import train_test_split\n",
        "from sklearn.cluster import KMeans"
      ],
      "metadata": {
        "id": "dAC31a2OMvrx"
      },
      "execution_count": null,
      "outputs": []
    },
    {
      "cell_type": "code",
      "source": [
        "#Visualización de datos\n",
        "x = data['Close'].values\n",
        "y = data['Volume'].values\n",
        "plt.xlabel('Close')\n",
        "plt.ylabel('Volume')\n",
        "plt.title('Precio de cierre vs. Volumen de acciones negociadas')\n",
        "plt.plot(x,y,'o',markersize=1)"
      ],
      "metadata": {
        "id": "s2DyBhUiPCnK",
        "colab": {
          "base_uri": "https://localhost:8080/",
          "height": 490
        },
        "outputId": "bb7e1096-1e62-437a-dc9a-4cdca4c37a4f"
      },
      "execution_count": null,
      "outputs": [
        {
          "output_type": "execute_result",
          "data": {
            "text/plain": [
              "[<matplotlib.lines.Line2D at 0x7c3dec5ac250>]"
            ]
          },
          "metadata": {},
          "execution_count": 4
        },
        {
          "output_type": "display_data",
          "data": {
            "text/plain": [
              "<Figure size 640x480 with 1 Axes>"
            ],
            "image/png": "[encoded data removed]"
          },
          "metadata": {}
        }
      ]
    },
    {
      "cell_type": "markdown",
      "source": [
        "Parece indicar que a mayor volumen menor es el precio de cierre."
      ],
      "metadata": {
        "id": "8fx_8HYKux2k"
      }
    },
    {
      "cell_type": "code",
      "source": [
        "#Curva elbow para determinar valor óptimo de k.\n",
        "\n",
        "plt.plot(K, distortions, 'bx-')\n",
        "plt.xlabel('k')\n",
        "plt.ylabel('Distortion')\n",
        "plt.title('Curva elbow para determinar valor óptimo de k')\n",
        "plt.show()\n",
        "\n",
        "\n"
      ],
      "metadata": {
        "colab": {
          "base_uri": "https://localhost:8080/",
          "height": 472
        },
        "id": "BUdXLcnQ5qE0",
        "outputId": "f87bcb34-d394-41da-81d3-94603ec79109"
      },
      "execution_count": null,
      "outputs": [
        {
          "output_type": "display_data",
          "data": {
            "text/plain": [
              "<Figure size 640x480 with 1 Axes>"
            ],
            "image/png": "[encoded data removed]"
          },
          "metadata": {}
        }
      ]
    },
    {
      "cell_type": "markdown",
      "source": [],
      "metadata": {
        "id": "68DfwbyfPTSf"
      }
    },
    {
      "cell_type": "code",
      "source": [
        "x, y = make_blobs(n_samples=3774, centers=3, n_features=2)\n",
        "plt.scatter(x[:,0], x[:,1], c=y)\n",
        "plt.show()"
      ],
      "metadata": {
        "id": "aB3DHk6s7Rlz",
        "colab": {
          "base_uri": "https://localhost:8080/",
          "height": 430
        },
        "outputId": "2bbf0bf8-fb02-490a-993d-ca92157c0a63"
      },
      "execution_count": null,
      "outputs": [
        {
          "output_type": "display_data",
          "data": {
            "text/plain": [
              "<Figure size 640x480 with 1 Axes>"
            ],
            "image/png": "[encoded data removed]"
          },
          "metadata": {}
        }
      ]
    },
    {
      "cell_type": "code",
      "source": [
        "K = 3\n",
        "#Dividimos entre train y test.\n",
        "x_train, x_test, y_train, y_test = train_test_split(x,y,test_size=0.3)\n",
        "#Entrenamos con x_train...\n",
        "modelo_kmeans = KMeans(n_clusters = K).fit(x_train)\n",
        "#Extraemos los centroides\n",
        "centroides = modelo_kmeans.cluster_centers_\n",
        "print(centroides)"
      ],
      "metadata": {
        "id": "-7bLdr8H-tU7",
        "colab": {
          "base_uri": "https://localhost:8080/"
        },
        "outputId": "a0dea764-cb0e-4b68-9a81-b089e28959ad"
      },
      "execution_count": null,
      "outputs": [
        {
          "output_type": "stream",
          "name": "stdout",
          "text": [
            "[[ 8.75748353 -8.57167569]\n",
            " [-3.60825632  6.97577365]\n",
            " [ 8.20939653  0.4986684 ]]\n"
          ]
        },
        {
          "output_type": "stream",
          "name": "stderr",
          "text": [
            "/usr/local/lib/python3.10/dist-packages/sklearn/cluster/_kmeans.py:870: FutureWarning: The default value of `n_init` will change from 10 to 'auto' in 1.4. Set the value of `n_init` explicitly to suppress the warning\n",
            "  warnings.warn(\n"
          ]
        }
      ]
    },
    {
      "cell_type": "markdown",
      "source": [
        "**Árboles de decisión**"
      ],
      "metadata": {
        "id": "SEGJiHgxPwOv"
      }
    },
    {
      "cell_type": "code",
      "source": [
        "import pandas as pd\n",
        "import numpy as np\n",
        "import matplotlib.pyplot as plt\n",
        "import sklearn.tree as tree\n",
        "from sklearn.ensemble import RandomForestClassifier as forest\n",
        "from sklearn.preprocessing import StandardScaler\n",
        "from sklearn.model_selection import train_test_split"
      ],
      "metadata": {
        "id": "ICG_xQno7YdU"
      },
      "execution_count": null,
      "outputs": []
    },
    {
      "cell_type": "code",
      "source": [
        "# Crear variable y respuesta\n",
        "X = data['Open'].values.reshape(-1,1)\n",
        "y = data['Close'].values"
      ],
      "metadata": {
        "id": "VZEMxOKo94c9"
      },
      "execution_count": null,
      "outputs": []
    },
    {
      "cell_type": "code",
      "source": [
        "# Ajustar el Modelo\n",
        "from sklearn.ensemble import RandomForestRegressor as Bosque\n",
        "regresor = Bosque(n_estimators=10, random_state=0)\n",
        "regresor.fit(X, y.reshape(-1,))"
      ],
      "metadata": {
        "colab": {
          "base_uri": "https://localhost:8080/",
          "height": 74
        },
        "id": "vN918suhA07O",
        "outputId": "247e1dd9-09ab-4d47-d5ce-feab0f960042"
      },
      "execution_count": null,
      "outputs": [
        {
          "output_type": "execute_result",
          "data": {
            "text/plain": [
              "RandomForestRegressor(n_estimators=10, random_state=0)"
            ],
            "text/html": [
              "<style>#sk-container-id-3 {color: black;background-color: white;}#sk-container-id-3 pre{padding: 0;}#sk-container-id-3 div.sk-toggleable {background-color: white;}#sk-container-id-3 label.sk-toggleable__label {cursor: pointer;display: block;width: 100%;margin-bottom: 0;padding: 0.3em;box-sizing: border-box;text-align: center;}#sk-container-id-3 label.sk-toggleable__label-arrow:before {content: \"▸\";float: left;margin-right: 0.25em;color: #696969;}#sk-container-id-3 label.sk-toggleable__label-arrow:hover:before {color: black;}#sk-container-id-3 div.sk-estimator:hover label.sk-toggleable__label-arrow:before {color: black;}#sk-container-id-3 div.sk-toggleable__content {max-height: 0;max-width: 0;overflow: hidden;text-align: left;background-color: #f0f8ff;}#sk-container-id-3 div.sk-toggleable__content pre {margin: 0.2em;color: black;border-radius: 0.25em;background-color: #f0f8ff;}#sk-container-id-3 input.sk-toggleable__control:checked~div.sk-toggleable__content {max-height: 200px;max-width: 100%;overflow: auto;}#sk-container-id-3 input.sk-toggleable__control:checked~label.sk-toggleable__label-arrow:before {content: \"▾\";}#sk-container-id-3 div.sk-estimator input.sk-toggleable__control:checked~label.sk-toggleable__label {background-color: #d4ebff;}#sk-container-id-3 div.sk-label input.sk-toggleable__control:checked~label.sk-toggleable__label {background-color: #d4ebff;}#sk-container-id-3 input.sk-hidden--visually {border: 0;clip: rect(1px 1px 1px 1px);clip: rect(1px, 1px, 1px, 1px);height: 1px;margin: -1px;overflow: hidden;padding: 0;position: absolute;width: 1px;}#sk-container-id-3 div.sk-estimator {font-family: monospace;background-color: #f0f8ff;border: 1px dotted black;border-radius: 0.25em;box-sizing: border-box;margin-bottom: 0.5em;}#sk-container-id-3 div.sk-estimator:hover {background-color: #d4ebff;}#sk-container-id-3 div.sk-parallel-item::after {content: \"\";width: 100%;border-bottom: 1px solid gray;flex-grow: 1;}#sk-container-id-3 div.sk-label:hover label.sk-toggleable__label {background-color: #d4ebff;}#sk-container-id-3 div.sk-serial::before {content: \"\";position: absolute;border-left: 1px solid gray;box-sizing: border-box;top: 0;bottom: 0;left: 50%;z-index: 0;}#sk-container-id-3 div.sk-serial {display: flex;flex-direction: column;align-items: center;background-color: white;padding-right: 0.2em;padding-left: 0.2em;position: relative;}#sk-container-id-3 div.sk-item {position: relative;z-index: 1;}#sk-container-id-3 div.sk-parallel {display: flex;align-items: stretch;justify-content: center;background-color: white;position: relative;}#sk-container-id-3 div.sk-item::before, #sk-container-id-3 div.sk-parallel-item::before {content: \"\";position: absolute;border-left: 1px solid gray;box-sizing: border-box;top: 0;bottom: 0;left: 50%;z-index: -1;}#sk-container-id-3 div.sk-parallel-item {display: flex;flex-direction: column;z-index: 1;position: relative;background-color: white;}#sk-container-id-3 div.sk-parallel-item:first-child::after {align-self: flex-end;width: 50%;}#sk-container-id-3 div.sk-parallel-item:last-child::after {align-self: flex-start;width: 50%;}#sk-container-id-3 div.sk-parallel-item:only-child::after {width: 0;}#sk-container-id-3 div.sk-dashed-wrapped {border: 1px dashed gray;margin: 0 0.4em 0.5em 0.4em;box-sizing: border-box;padding-bottom: 0.4em;background-color: white;}#sk-container-id-3 div.sk-label label {font-family: monospace;font-weight: bold;display: inline-block;line-height: 1.2em;}#sk-container-id-3 div.sk-label-container {text-align: center;}#sk-container-id-3 div.sk-container {/* jupyter's `normalize.less` sets `[hidden] { display: none; }` but bootstrap.min.css set `[hidden] { display: none !important; }` so we also need the `!important` here to be able to override the default hidden behavior on the sphinx rendered scikit-learn.org. See: https://github.com/scikit-learn/scikit-learn/issues/21755 */display: inline-block !important;position: relative;}#sk-container-id-3 div.sk-text-repr-fallback {display: none;}</style><div id=\"sk-container-id-3\" class=\"sk-top-container\"><div class=\"sk-text-repr-fallback\"><pre>RandomForestRegressor(n_estimators=10, random_state=0)</pre><b>In a Jupyter environment, please rerun this cell to show the HTML representation or trust the notebook. <br />On GitHub, the HTML representation is unable to render, please try loading this page with nbviewer.org.</b></div><div class=\"sk-container\" hidden><div class=\"sk-item\"><div class=\"sk-estimator sk-toggleable\"><input class=\"sk-toggleable__control sk-hidden--visually\" id=\"sk-estimator-id-3\" type=\"checkbox\" checked><label for=\"sk-estimator-id-3\" class=\"sk-toggleable__label sk-toggleable__label-arrow\">RandomForestRegressor</label><div class=\"sk-toggleable__content\"><pre>RandomForestRegressor(n_estimators=10, random_state=0)</pre></div></div></div></div></div>"
            ]
          },
          "metadata": {},
          "execution_count": 104
        }
      ]
    },
    {
      "cell_type": "code",
      "source": [
        "#Hacer las predicciones (predicciones -> y_pred)\n",
        "y_fit = regresor.predict(X).reshape(-1,1) # Valores ajustados durante el entrenamiento"
      ],
      "metadata": {
        "id": "lMGYmieuA4Rq"
      },
      "execution_count": null,
      "outputs": []
    },
    {
      "cell_type": "code",
      "source": [
        "X_grid = np.arange(min(X), max(X), 0.01)\n",
        "X_grid = X_grid.reshape(-1, 1)\n",
        "y_grid = regresor.predict(X_grid)\n",
        "\n",
        "plt.scatter(X, y, color = 'red')\n",
        "plt.plot(X_grid, y_grid, color = 'blue')\n",
        "plt.title('Regresión Lineal')\n",
        "plt.xlabel('Nivel')\n",
        "plt.ylabel('Close')\n",
        "plt.show()"
      ],
      "metadata": {
        "colab": {
          "base_uri": "https://localhost:8080/",
          "height": 528
        },
        "id": "UwDGp-j1BIJ_",
        "outputId": "f4df1117-3f9e-446d-de9f-e9cd16205e3b"
      },
      "execution_count": null,
      "outputs": [
        {
          "output_type": "stream",
          "name": "stderr",
          "text": [
            "<ipython-input-106-964eecaae904>:1: DeprecationWarning: Conversion of an array with ndim > 0 to a scalar is deprecated, and will error in future. Ensure you extract a single element from your array before performing this operation. (Deprecated NumPy 1.25.)\n",
            "  X_grid = np.arange(min(X), max(X), 0.01)\n"
          ]
        },
        {
          "output_type": "display_data",
          "data": {
            "text/plain": [
              "<Figure size 640x480 with 1 Axes>"
            ],
            "image/png": "[encoded data removed]"
          },
          "metadata": {}
        }
      ]
    },
    {
      "cell_type": "markdown",
      "source": [
        "**Regresión Lineal Múltiple**"
      ],
      "metadata": {
        "id": "FQqjJiCZiOWd"
      }
    },
    {
      "cell_type": "code",
      "source": [
        "import numpy as np\n",
        "import pandas as pd\n",
        "#Librerias de ML\n",
        "from sklearn.model_selection import train_test_split\n",
        "from sklearn.model_selection import KFold\n",
        "from sklearn.linear_model import LinearRegression\n",
        "from sklearn.metrics import mean_squared_error"
      ],
      "metadata": {
        "id": "-91RYSeIjHnK"
      },
      "execution_count": null,
      "outputs": []
    },
    {
      "cell_type": "markdown",
      "source": [
        "Vamos a predecir el valor de **Close**, por lo que comenzaremos utilizando solo las variables que nos indican una correlacion 1"
      ],
      "metadata": {
        "id": "e5O2C1pciq2F"
      }
    },
    {
      "cell_type": "code",
      "source": [
        "#Creamos las variables predictorias y la varaible predecida\n",
        "x_rlm = df_filtered[['Open','High','Low','Adj Close']]\n",
        "y_rlm = df_filtered['Close']"
      ],
      "metadata": {
        "id": "p3k73U16lSFS"
      },
      "execution_count": null,
      "outputs": []
    },
    {
      "cell_type": "code",
      "source": [
        "#dividir los datos en Train y Test\n",
        "X_train, X_test, Y_train, Y_test = train_test(x_rlm, y_rlm, 0.4,5)\n",
        "print(X_train.shape)\n",
        "print(X_test.shape)\n",
        "print(Y_train.shape)\n",
        "print(Y_test.shape)"
      ],
      "metadata": {
        "id": "KH3lzqMumB5w"
      },
      "execution_count": null,
      "outputs": []
    },
    {
      "cell_type": "code",
      "source": [
        "#Entrenamiento de regresión lineal\n",
        "lin_model = LinearRegression()\n",
        "lin_model.fit(X_train, Y_train)"
      ],
      "metadata": {
        "id": "RdoeilJ7rKp_"
      },
      "execution_count": null,
      "outputs": []
    },
    {
      "cell_type": "code",
      "source": [
        "#Evaluar el modelo\n",
        "#Datos de entrenamiento\n",
        "y_train_predict = lin_model.predict(X_train)\n",
        "MSE = mean_squared_error(Y_train,y_train_predict)\n",
        "print(\"Entrenamiento: MSE =\"+str(MSE))\n",
        "#Datos de prueba\n",
        "y_test_predict = lin_model.predict(X_test)\n",
        "MSE = (mean_squared_error(Y_test, y_test_predict))\n",
        "print(\"Pruebas: MSE =\"+str(MSE))"
      ],
      "metadata": {
        "id": "JxK4nE-drR_Q"
      },
      "execution_count": null,
      "outputs": []
    },
    {
      "cell_type": "code",
      "source": [
        "df_predicciones = pd.DataFrame({'valor_real':Y_test, 'prediccion':y_test_predict})\n",
        "df_predicciones = df_predicciones.reset_index(drop = True)\n",
        "df_predicciones.head(10)"
      ],
      "metadata": {
        "id": "tGnEs9Isr8Jl"
      },
      "execution_count": null,
      "outputs": []
    },
    {
      "cell_type": "markdown",
      "source": [
        "**Bitacora de Experimento**\n",
        "\n",
        "* *Experimento 1*\n",
        "* Fecha y hora: 16-03-2024\n",
        "* Algoritmo: Regresion Lineal\n",
        "* Dataset: GOOG.csv\n",
        "* Configuración:\n",
        "  * Algoritmo LinealRegression\n",
        "  * Learning: 0.4 test\n",
        "  * Random state: 5\n",
        "* Resultado\n",
        "  * MSE entrenamient: 1.1303230414759601e-27\n",
        "  * MSE Prueba: 1.139861691664678e-27"
      ],
      "metadata": {
        "id": "II3v0NFpnpX5"
      }
    },
    {
      "cell_type": "markdown",
      "source": [
        "*Regresion lineal multiple con todas las variables*"
      ],
      "metadata": {
        "id": "O8ConilVt84q"
      }
    },
    {
      "cell_type": "code",
      "source": [
        "#Creamos las variables predictoras y la variable a predecir\n",
        "X_rlm = df_filtered[['Open','High','Low','Adj Close','Volume','Year']]\n",
        "Y_rlm = df_filtered['Close']"
      ],
      "metadata": {
        "id": "TTloW0JIt7uA"
      },
      "execution_count": null,
      "outputs": []
    },
    {
      "cell_type": "code",
      "source": [
        "#Dividir los datos en Train y Test\n",
        "X_train, X_test, Y_train, Y_test = train_test(X_rlm, Y_rlm, 0.4,5)\n",
        "#Entrenamiento de regresión lineal\n",
        "lin_model_com = LinearRegression()\n",
        "lin_model_com.fit(X_train, Y_train)"
      ],
      "metadata": {
        "id": "ac7j2157ukQl"
      },
      "execution_count": null,
      "outputs": []
    },
    {
      "cell_type": "code",
      "source": [
        "#Evaluar el modelo\n",
        "#Datos de entrenamiento\n",
        "y_train_predict = lin_model_com.predict(X_train)\n",
        "MSE = mean_squared_error(Y_train,y_train_predict)\n",
        "print(\"Entrenamiento: MSE =\"+str(MSE))\n",
        "#Datos de prueba\n",
        "y_test_predict = lin_model_com.predict(X_test)\n",
        "MSE = (mean_squared_error(Y_test, y_test_predict))\n",
        "print(\"Pruebas: MSE =\"+str(MSE))"
      ],
      "metadata": {
        "id": "Au30OyxhuyBK"
      },
      "execution_count": null,
      "outputs": []
    },
    {
      "cell_type": "code",
      "source": [
        "df_predicciones = pd.DataFrame({'valor_real':Y_test, 'prediccion':y_test_predict})\n",
        "df_predicciones = df_predicciones.reset_index(drop = True)\n",
        "df_predicciones.head(10)"
      ],
      "metadata": {
        "id": "dsaghvybvmDs"
      },
      "execution_count": null,
      "outputs": []
    },
    {
      "cell_type": "markdown",
      "source": [
        "**Bitacora de Experimento**\n",
        "\n",
        "* *Experimento Com 2*\n",
        "* Fecha y hora: 16-03-2024\n",
        "* Algoritmo: Regresion Lineal\n",
        "* Dataset: GOOG.csv\n",
        "* Configuración:\n",
        "  * Algoritmo LinealRegression\n",
        "  * Learning: 0.4 test\n",
        "  * Random state: 5\n",
        "* Resultado\n",
        "  * MSE entrenamient: 9.550704673873392e-21\n",
        "  * MSE Prueba: 1.0189304589022624e-20"
      ],
      "metadata": {
        "id": "X9F_hW38vM7m"
      }
    },
    {
      "cell_type": "markdown",
      "source": [
        "**Regresion Polinomial**"
      ],
      "metadata": {
        "id": "hLIvbOI-iSJM"
      }
    },
    {
      "cell_type": "code",
      "source": [
        "from sklearn.linear_model import LinearRegression\n",
        "from sklearn.preprocessing import PolynomialFeatures"
      ],
      "metadata": {
        "id": "MRGeClQYiUeH"
      },
      "execution_count": null,
      "outputs": []
    },
    {
      "cell_type": "code",
      "source": [
        "X_rpm = df_filtered[['Open','High','Low','Adj Close','Volume','Year']]\n",
        "Y_rpm = df_filtered['Close']"
      ],
      "metadata": {
        "id": "RCeQVXruzPQv"
      },
      "execution_count": null,
      "outputs": []
    },
    {
      "cell_type": "code",
      "source": [
        "#Dividir los datos en Train y Test\n",
        "X_train, X_test, Y_train, Y_test = train_test(X_rpm, Y_rpm, 0.4,5)\n",
        "#Construir el modelo de regresion\n",
        "poly_model = LinearRegression()"
      ],
      "metadata": {
        "id": "MPrNSP-Qzgx9"
      },
      "execution_count": null,
      "outputs": []
    },
    {
      "cell_type": "code",
      "source": [
        "#Asignamos el grado del polinomio\n",
        "poly = PolynomialFeatures(degree=2)\n",
        "\n",
        "#Convertimos los datos a relaciones polinómicas\n",
        "Xpolytrain = poly.fit_transform(X_train)\n",
        "Xpolytest = poly.fit_transform(X_test)\n",
        "\n",
        "#Entrenamos el modelo\n",
        "poly_model.fit(Xpolytrain, Y_train)\n"
      ],
      "metadata": {
        "id": "ppyoQMZczylQ"
      },
      "execution_count": null,
      "outputs": []
    },
    {
      "cell_type": "code",
      "source": [
        "## Evaluamos el modelo\n",
        "#Predecimos los resultados de entrenamiento\n",
        "y_train_predict = poly_model.predict(Xpolytrain)\n",
        "#Error cuadrático medio\n",
        "MSE = mean_squared_error(Y_train,y_train_predict)\n",
        "print(\"Entrenamiento: MSE =\"+str(MSE))\n",
        "\n",
        "#Predecimos los resultados de prueba\n",
        "y_test_predict = poly_model.predict(Xpolytest)\n",
        "MSE = (mean_squared_error(Y_test, y_test_predict))\n",
        "print(\"Pruebas: MSE =\"+str(MSE))"
      ],
      "metadata": {
        "id": "B5Ml86Lq1fDq"
      },
      "execution_count": null,
      "outputs": []
    },
    {
      "cell_type": "markdown",
      "source": [
        "**Bitacora de Experimento**\n",
        "\n",
        "* *Experimento Com 3*\n",
        "* Fecha y hora: 16-03-2024\n",
        "* Algoritmo: Regresion Polinomial grado 2\n",
        "* Dataset: GOOG.csv\n",
        "* Configuración:\n",
        "  * Algoritmo LinealRegression degree 2\n",
        "  * Learning: 0.4 test\n",
        "  * Random state: 5\n",
        "* Resultado\n",
        "  * MSE entrenamient: 0.0005772693148451213\n",
        "  * MSE Prueba: 0.0006280399129507416"
      ],
      "metadata": {
        "id": "jj0WRE_617ql"
      }
    },
    {
      "cell_type": "markdown",
      "source": [
        "**Bitacora de Experimento**\n",
        "\n",
        "* *Experimento Com 4*\n",
        "* Fecha y hora: 16-03-2024\n",
        "* Algoritmo: Regresion Polinomial grado 3\n",
        "* Dataset: GOOG.csv\n",
        "* Configuración:\n",
        "  * Algoritmo LinealRegression degree 3\n",
        "  * Learning: 0.4 test\n",
        "  * Random state: 5\n",
        "* Resultado\n",
        "  * MSE entrenamient: 104.46908439418338\n",
        "  * MSE Prueba: 167.24536508000529"
      ],
      "metadata": {
        "id": "7ddeA1U92cbS"
      }
    },
    {
      "cell_type": "markdown",
      "source": [
        "**Series de tiempo**"
      ],
      "metadata": {
        "id": "mEqrGU1TiVDo"
      }
    },
    {
      "cell_type": "markdown",
      "source": [
        "Las series de tiempo son una aplicación de la regresión: una serie temporal es una secuencia de datos ordenados cronológicamente, donde cada punto de datos está asociado con un momento específico en el tiempo. Estos datos pueden representar cualquier variable que cambie a lo largo del tiempo, como ventas trimestrales, temperaturas diarias, precios de acciones, entre otros. El análisis de series temporales se centra en entender los patrones, tendencias y ciclos en los datos a lo largo del tiempo, y se utiliza en una variedad de campos para predecir el comportamiento futuro.\n",
        "\n",
        "Notemos que nuestros datos son registros que se toman de manera cronológica diariamente. Esto nos permitirá realizar predicciones con respecto a fechas. Algo muy importante a tener en cuenta es que acá no es que exista una dependencia directa hacia la fecha sino hacia los datos anteriores."
      ],
      "metadata": {
        "id": "SKc70UaXULT5"
      }
    },
    {
      "cell_type": "code",
      "source": [
        "data['Date'] = pd.to_datetime(data['Date'])"
      ],
      "metadata": {
        "id": "pijBeLF7rss6"
      },
      "execution_count": null,
      "outputs": []
    },
    {
      "cell_type": "code",
      "source": [
        "#Fijamos la fecha como índice\n",
        "data.set_index('Date', inplace=True)"
      ],
      "metadata": {
        "id": "oaXP_oytiWm0"
      },
      "execution_count": null,
      "outputs": []
    },
    {
      "cell_type": "code",
      "source": [
        "data.head()"
      ],
      "metadata": {
        "colab": {
          "base_uri": "https://localhost:8080/",
          "height": 238
        },
        "id": "i6GGVMiNqvf_",
        "outputId": "4281695e-3182-4d35-afff-e01a895d4313"
      },
      "execution_count": null,
      "outputs": [
        {
          "output_type": "execute_result",
          "data": {
            "text/plain": [
              "                Open      High       Low     Close  Adj Close     Volume  \\\n",
              "Date                                                                       \n",
              "2009-02-02  8.365616  8.633634  8.308308  8.522773   8.522773  208067724   \n",
              "2009-02-03  8.572823  8.583584  8.354104  8.519770   8.519770  261997740   \n",
              "2009-02-04  8.510260  8.869870  8.487738  8.583584   8.583584  272423304   \n",
              "2009-02-05  8.531281  8.893393  8.433433  8.851852   8.851852  290285424   \n",
              "2009-02-06  8.920420  9.354605  8.894895  9.291291   9.291291  281242476   \n",
              "\n",
              "            Porcentaje  Year  Month  Day  \n",
              "Date                                      \n",
              "2009-02-02    0.018786  2009      2    2  \n",
              "2009-02-03   -0.006189  2009      2    3  \n",
              "2009-02-04    0.008616  2009      2    4  \n",
              "2009-02-05    0.037576  2009      2    5  \n",
              "2009-02-06    0.041576  2009      2    6  "
            ],
            "text/html": [
              "\n",
              "  <div id=\"df-c21c01fa-9dd7-4f58-bbde-9ef946589e88\" class=\"colab-df-container\">\n",
              "    <div>\n",
              "<style scoped>\n",
              "    .dataframe tbody tr th:only-of-type {\n",
              "        vertical-align: middle;\n",
              "    }\n",
              "\n",
              "    .dataframe tbody tr th {\n",
              "        vertical-align: top;\n",
              "    }\n",
              "\n",
              "    .dataframe thead th {\n",
              "        text-align: right;\n",
              "    }\n",
              "</style>\n",
              "<table border=\"1\" class=\"dataframe\">\n",
              "  <thead>\n",
              "    <tr style=\"text-align: right;\">\n",
              "      <th></th>\n",
              "      <th>Open</th>\n",
              "      <th>High</th>\n",
              "      <th>Low</th>\n",
              "      <th>Close</th>\n",
              "      <th>Adj Close</th>\n",
              "      <th>Volume</th>\n",
              "      <th>Porcentaje</th>\n",
              "      <th>Year</th>\n",
              "      <th>Month</th>\n",
              "      <th>Day</th>\n",
              "    </tr>\n",
              "    <tr>\n",
              "      <th>Date</th>\n",
              "      <th></th>\n",
              "      <th></th>\n",
              "      <th></th>\n",
              "      <th></th>\n",
              "      <th></th>\n",
              "      <th></th>\n",
              "      <th></th>\n",
              "      <th></th>\n",
              "      <th></th>\n",
              "      <th></th>\n",
              "    </tr>\n",
              "  </thead>\n",
              "  <tbody>\n",
              "    <tr>\n",
              "      <th>2009-02-02</th>\n",
              "      <td>8.365616</td>\n",
              "      <td>8.633634</td>\n",
              "      <td>8.308308</td>\n",
              "      <td>8.522773</td>\n",
              "      <td>8.522773</td>\n",
              "      <td>208067724</td>\n",
              "      <td>0.018786</td>\n",
              "      <td>2009</td>\n",
              "      <td>2</td>\n",
              "      <td>2</td>\n",
              "    </tr>\n",
              "    <tr>\n",
              "      <th>2009-02-03</th>\n",
              "      <td>8.572823</td>\n",
              "      <td>8.583584</td>\n",
              "      <td>8.354104</td>\n",
              "      <td>8.519770</td>\n",
              "      <td>8.519770</td>\n",
              "      <td>261997740</td>\n",
              "      <td>-0.006189</td>\n",
              "      <td>2009</td>\n",
              "      <td>2</td>\n",
              "      <td>3</td>\n",
              "    </tr>\n",
              "    <tr>\n",
              "      <th>2009-02-04</th>\n",
              "      <td>8.510260</td>\n",
              "      <td>8.869870</td>\n",
              "      <td>8.487738</td>\n",
              "      <td>8.583584</td>\n",
              "      <td>8.583584</td>\n",
              "      <td>272423304</td>\n",
              "      <td>0.008616</td>\n",
              "      <td>2009</td>\n",
              "      <td>2</td>\n",
              "      <td>4</td>\n",
              "    </tr>\n",
              "    <tr>\n",
              "      <th>2009-02-05</th>\n",
              "      <td>8.531281</td>\n",
              "      <td>8.893393</td>\n",
              "      <td>8.433433</td>\n",
              "      <td>8.851852</td>\n",
              "      <td>8.851852</td>\n",
              "      <td>290285424</td>\n",
              "      <td>0.037576</td>\n",
              "      <td>2009</td>\n",
              "      <td>2</td>\n",
              "      <td>5</td>\n",
              "    </tr>\n",
              "    <tr>\n",
              "      <th>2009-02-06</th>\n",
              "      <td>8.920420</td>\n",
              "      <td>9.354605</td>\n",
              "      <td>8.894895</td>\n",
              "      <td>9.291291</td>\n",
              "      <td>9.291291</td>\n",
              "      <td>281242476</td>\n",
              "      <td>0.041576</td>\n",
              "      <td>2009</td>\n",
              "      <td>2</td>\n",
              "      <td>6</td>\n",
              "    </tr>\n",
              "  </tbody>\n",
              "</table>\n",
              "</div>\n",
              "    <div class=\"colab-df-buttons\">\n",
              "\n",
              "  <div class=\"colab-df-container\">\n",
              "    <button class=\"colab-df-convert\" onclick=\"convertToInteractive('df-c21c01fa-9dd7-4f58-bbde-9ef946589e88')\"\n",
              "            title=\"Convert this dataframe to an interactive table.\"\n",
              "            style=\"display:none;\">\n",
              "\n",
              "  <svg xmlns=\"http://www.w3.org/2000/svg\" height=\"24px\" viewBox=\"0 -960 960 960\">\n",
              "    <path d=\"M120-120v-720h720v720H120Zm60-500h600v-160H180v160Zm220 220h160v-160H400v160Zm0 220h160v-160H400v160ZM180-400h160v-160H180v160Zm440 0h160v-160H620v160ZM180-180h160v-160H180v160Zm440 0h160v-160H620v160Z\"/>\n",
              "  </svg>\n",
              "    </button>\n",
              "\n",
              "  <style>\n",
              "    .colab-df-container {\n",
              "      display:flex;\n",
              "      gap: 12px;\n",
              "    }\n",
              "\n",
              "    .colab-df-convert {\n",
              "      background-color: #E8F0FE;\n",
              "      border: none;\n",
              "      border-radius: 50%;\n",
              "      cursor: pointer;\n",
              "      display: none;\n",
              "      fill: #1967D2;\n",
              "      height: 32px;\n",
              "      padding: 0 0 0 0;\n",
              "      width: 32px;\n",
              "    }\n",
              "\n",
              "    .colab-df-convert:hover {\n",
              "      background-color: #E2EBFA;\n",
              "      box-shadow: 0px 1px 2px rgba(60, 64, 67, 0.3), 0px 1px 3px 1px rgba(60, 64, 67, 0.15);\n",
              "      fill: #174EA6;\n",
              "    }\n",
              "\n",
              "    .colab-df-buttons div {\n",
              "      margin-bottom: 4px;\n",
              "    }\n",
              "\n",
              "    [theme=dark] .colab-df-convert {\n",
              "      background-color: #3B4455;\n",
              "      fill: #D2E3FC;\n",
              "    }\n",
              "\n",
              "    [theme=dark] .colab-df-convert:hover {\n",
              "      background-color: #434B5C;\n",
              "      box-shadow: 0px 1px 3px 1px rgba(0, 0, 0, 0.15);\n",
              "      filter: drop-shadow(0px 1px 2px rgba(0, 0, 0, 0.3));\n",
              "      fill: #FFFFFF;\n",
              "    }\n",
              "  </style>\n",
              "\n",
              "    <script>\n",
              "      const buttonEl =\n",
              "        document.querySelector('#df-c21c01fa-9dd7-4f58-bbde-9ef946589e88 button.colab-df-convert');\n",
              "      buttonEl.style.display =\n",
              "        google.colab.kernel.accessAllowed ? 'block' : 'none';\n",
              "\n",
              "      async function convertToInteractive(key) {\n",
              "        const element = document.querySelector('#df-c21c01fa-9dd7-4f58-bbde-9ef946589e88');\n",
              "        const dataTable =\n",
              "          await google.colab.kernel.invokeFunction('convertToInteractive',\n",
              "                                                    [key], {});\n",
              "        if (!dataTable) return;\n",
              "\n",
              "        const docLinkHtml = 'Like what you see? Visit the ' +\n",
              "          '<a target=\"_blank\" href=https://colab.research.google.com/notebooks/data_table.ipynb>data table notebook</a>'\n",
              "          + ' to learn more about interactive tables.';\n",
              "        element.innerHTML = '';\n",
              "        dataTable['output_type'] = 'display_data';\n",
              "        await google.colab.output.renderOutput(dataTable, element);\n",
              "        const docLink = document.createElement('div');\n",
              "        docLink.innerHTML = docLinkHtml;\n",
              "        element.appendChild(docLink);\n",
              "      }\n",
              "    </script>\n",
              "  </div>\n",
              "\n",
              "\n",
              "<div id=\"df-5805aae3-f949-41ef-a523-31ad65f4e2f4\">\n",
              "  <button class=\"colab-df-quickchart\" onclick=\"quickchart('df-5805aae3-f949-41ef-a523-31ad65f4e2f4')\"\n",
              "            title=\"Suggest charts\"\n",
              "            style=\"display:none;\">\n",
              "\n",
              "<svg xmlns=\"http://www.w3.org/2000/svg\" height=\"24px\"viewBox=\"0 0 24 24\"\n",
              "     width=\"24px\">\n",
              "    <g>\n",
              "        <path d=\"M19 3H5c-1.1 0-2 .9-2 2v14c0 1.1.9 2 2 2h14c1.1 0 2-.9 2-2V5c0-1.1-.9-2-2-2zM9 17H7v-7h2v7zm4 0h-2V7h2v10zm4 0h-2v-4h2v4z\"/>\n",
              "    </g>\n",
              "</svg>\n",
              "  </button>\n",
              "\n",
              "<style>\n",
              "  .colab-df-quickchart {\n",
              "      --bg-color: #E8F0FE;\n",
              "      --fill-color: #1967D2;\n",
              "      --hover-bg-color: #E2EBFA;\n",
              "      --hover-fill-color: #174EA6;\n",
              "      --disabled-fill-color: #AAA;\n",
              "      --disabled-bg-color: #DDD;\n",
              "  }\n",
              "\n",
              "  [theme=dark] .colab-df-quickchart {\n",
              "      --bg-color: #3B4455;\n",
              "      --fill-color: #D2E3FC;\n",
              "      --hover-bg-color: #434B5C;\n",
              "      --hover-fill-color: #FFFFFF;\n",
              "      --disabled-bg-color: #3B4455;\n",
              "      --disabled-fill-color: #666;\n",
              "  }\n",
              "\n",
              "  .colab-df-quickchart {\n",
              "    background-color: var(--bg-color);\n",
              "    border: none;\n",
              "    border-radius: 50%;\n",
              "    cursor: pointer;\n",
              "    display: none;\n",
              "    fill: var(--fill-color);\n",
              "    height: 32px;\n",
              "    padding: 0;\n",
              "    width: 32px;\n",
              "  }\n",
              "\n",
              "  .colab-df-quickchart:hover {\n",
              "    background-color: var(--hover-bg-color);\n",
              "    box-shadow: 0 1px 2px rgba(60, 64, 67, 0.3), 0 1px 3px 1px rgba(60, 64, 67, 0.15);\n",
              "    fill: var(--button-hover-fill-color);\n",
              "  }\n",
              "\n",
              "  .colab-df-quickchart-complete:disabled,\n",
              "  .colab-df-quickchart-complete:disabled:hover {\n",
              "    background-color: var(--disabled-bg-color);\n",
              "    fill: var(--disabled-fill-color);\n",
              "    box-shadow: none;\n",
              "  }\n",
              "\n",
              "  .colab-df-spinner {\n",
              "    border: 2px solid var(--fill-color);\n",
              "    border-color: transparent;\n",
              "    border-bottom-color: var(--fill-color);\n",
              "    animation:\n",
              "      spin 1s steps(1) infinite;\n",
              "  }\n",
              "\n",
              "  @keyframes spin {\n",
              "    0% {\n",
              "      border-color: transparent;\n",
              "      border-bottom-color: var(--fill-color);\n",
              "      border-left-color: var(--fill-color);\n",
              "    }\n",
              "    20% {\n",
              "      border-color: transparent;\n",
              "      border-left-color: var(--fill-color);\n",
              "      border-top-color: var(--fill-color);\n",
              "    }\n",
              "    30% {\n",
              "      border-color: transparent;\n",
              "      border-left-color: var(--fill-color);\n",
              "      border-top-color: var(--fill-color);\n",
              "      border-right-color: var(--fill-color);\n",
              "    }\n",
              "    40% {\n",
              "      border-color: transparent;\n",
              "      border-right-color: var(--fill-color);\n",
              "      border-top-color: var(--fill-color);\n",
              "    }\n",
              "    60% {\n",
              "      border-color: transparent;\n",
              "      border-right-color: var(--fill-color);\n",
              "    }\n",
              "    80% {\n",
              "      border-color: transparent;\n",
              "      border-right-color: var(--fill-color);\n",
              "      border-bottom-color: var(--fill-color);\n",
              "    }\n",
              "    90% {\n",
              "      border-color: transparent;\n",
              "      border-bottom-color: var(--fill-color);\n",
              "    }\n",
              "  }\n",
              "</style>\n",
              "\n",
              "  <script>\n",
              "    async function quickchart(key) {\n",
              "      const quickchartButtonEl =\n",
              "        document.querySelector('#' + key + ' button');\n",
              "      quickchartButtonEl.disabled = true;  // To prevent multiple clicks.\n",
              "      quickchartButtonEl.classList.add('colab-df-spinner');\n",
              "      try {\n",
              "        const charts = await google.colab.kernel.invokeFunction(\n",
              "            'suggestCharts', [key], {});\n",
              "      } catch (error) {\n",
              "        console.error('Error during call to suggestCharts:', error);\n",
              "      }\n",
              "      quickchartButtonEl.classList.remove('colab-df-spinner');\n",
              "      quickchartButtonEl.classList.add('colab-df-quickchart-complete');\n",
              "    }\n",
              "    (() => {\n",
              "      let quickchartButtonEl =\n",
              "        document.querySelector('#df-5805aae3-f949-41ef-a523-31ad65f4e2f4 button');\n",
              "      quickchartButtonEl.style.display =\n",
              "        google.colab.kernel.accessAllowed ? 'block' : 'none';\n",
              "    })();\n",
              "  </script>\n",
              "</div>\n",
              "\n",
              "    </div>\n",
              "  </div>\n"
            ],
            "application/vnd.google.colaboratory.intrinsic+json": {
              "type": "dataframe",
              "variable_name": "data",
              "summary": "{\n  \"name\": \"data\",\n  \"rows\": 3774,\n  \"fields\": [\n    {\n      \"column\": \"Date\",\n      \"properties\": {\n        \"dtype\": \"date\",\n        \"min\": \"2009-02-02 00:00:00\",\n        \"max\": \"2024-01-30 00:00:00\",\n        \"num_unique_values\": 3774,\n        \"samples\": [\n          \"2009-06-16 00:00:00\",\n          \"2024-01-26 00:00:00\",\n          \"2019-07-24 00:00:00\"\n        ],\n        \"semantic_type\": \"\",\n        \"description\": \"\"\n      }\n    },\n    {\n      \"column\": \"Open\",\n      \"properties\": {\n        \"dtype\": \"number\",\n        \"std\": 39.706664240754264,\n        \"min\": 7.463714,\n        \"max\": 152.800003,\n        \"num_unique_values\": 3677,\n        \"samples\": [\n          49.764999,\n          37.8825,\n          138.419998\n        ],\n        \"semantic_type\": \"\",\n        \"description\": \"\"\n      }\n    },\n    {\n      \"column\": \"High\",\n      \"properties\": {\n        \"dtype\": \"number\",\n        \"std\": 40.17055727106234,\n        \"min\": 7.671922,\n        \"max\": 153.779999,\n        \"num_unique_values\": 3664,\n        \"samples\": [\n          51.935001,\n          62.401001,\n          49.881001\n        ],\n        \"semantic_type\": \"\",\n        \"description\": \"\"\n      }\n    },\n    {\n      \"column\": \"Low\",\n      \"properties\": {\n        \"dtype\": \"number\",\n        \"std\": 39.274627515246316,\n        \"min\": 7.243493,\n        \"max\": 151.429993,\n        \"num_unique_values\": 3692,\n        \"samples\": [\n          11.323824,\n          119.230003,\n          13.063313\n        ],\n        \"semantic_type\": \"\",\n        \"description\": \"\"\n      }\n    },\n    {\n      \"column\": \"Close\",\n      \"properties\": {\n        \"dtype\": \"number\",\n        \"std\": 39.73147732089713,\n        \"min\": 7.27953,\n        \"max\": 153.509995,\n        \"num_unique_values\": 3720,\n        \"samples\": [\n          18.931431,\n          134.571503,\n          55.0\n        ],\n        \"semantic_type\": \"\",\n        \"description\": \"\"\n      }\n    },\n    {\n      \"column\": \"Adj Close\",\n      \"properties\": {\n        \"dtype\": \"number\",\n        \"std\": 39.73147732089713,\n        \"min\": 7.27953,\n        \"max\": 153.509995,\n        \"num_unique_values\": 3720,\n        \"samples\": [\n          18.931431,\n          134.571503,\n          55.0\n        ],\n        \"semantic_type\": \"\",\n        \"description\": \"\"\n      }\n    },\n    {\n      \"column\": \"Volume\",\n      \"properties\": {\n        \"dtype\": \"number\",\n        \"std\": 52667026,\n        \"min\": 9312000,\n        \"max\": 592399008,\n        \"num_unique_values\": 3658,\n        \"samples\": [\n          183104712,\n          59574000,\n          89941968\n        ],\n        \"semantic_type\": \"\",\n        \"description\": \"\"\n      }\n    },\n    {\n      \"column\": \"Porcentaje\",\n      \"properties\": {\n        \"dtype\": \"number\",\n        \"std\": 0.01298006005528879,\n        \"min\": -0.08012822275797932,\n        \"max\": 0.06507063910567398,\n        \"num_unique_values\": 3766,\n        \"samples\": [\n          -0.0034660665593456027,\n          0.01487891552587281,\n          -0.0002696778084326003\n        ],\n        \"semantic_type\": \"\",\n        \"description\": \"\"\n      }\n    },\n    {\n      \"column\": \"Year\",\n      \"properties\": {\n        \"dtype\": \"number\",\n        \"std\": 4,\n        \"min\": 2009,\n        \"max\": 2024,\n        \"num_unique_values\": 16,\n        \"samples\": [\n          2009,\n          2010,\n          2014\n        ],\n        \"semantic_type\": \"\",\n        \"description\": \"\"\n      }\n    },\n    {\n      \"column\": \"Month\",\n      \"properties\": {\n        \"dtype\": \"number\",\n        \"std\": 3,\n        \"min\": 1,\n        \"max\": 12,\n        \"num_unique_values\": 12,\n        \"samples\": [\n          12,\n          11,\n          2\n        ],\n        \"semantic_type\": \"\",\n        \"description\": \"\"\n      }\n    },\n    {\n      \"column\": \"Day\",\n      \"properties\": {\n        \"dtype\": \"number\",\n        \"std\": 8,\n        \"min\": 1,\n        \"max\": 31,\n        \"num_unique_values\": 31,\n        \"samples\": [\n          21,\n          24,\n          7\n        ],\n        \"semantic_type\": \"\",\n        \"description\": \"\"\n      }\n    }\n  ]\n}"
            }
          },
          "metadata": {},
          "execution_count": 76
        }
      ]
    },
    {
      "cell_type": "code",
      "source": [
        " # Calcular la media mensual de los precios de cierre\n",
        "monthly_mean = data['Close'].resample('1M').mean()\n",
        "monthly_mean.plot(y='Close', title='Media mensual de Close')\n",
        "plt.xlabel('Mes')\n",
        "plt.ylabel('Close')\n",
        "plt.show()\n"
      ],
      "metadata": {
        "colab": {
          "base_uri": "https://localhost:8080/",
          "height": 480
        },
        "id": "PWUcknojcXnn",
        "outputId": "4a6fc2c3-0e1f-4049-bf93-3287fd00afde"
      },
      "execution_count": null,
      "outputs": [
        {
          "output_type": "display_data",
          "data": {
            "text/plain": [
              "<Figure size 640x480 with 1 Axes>"
            ],
            "image/png": "[encoded data removed]"
          },
          "metadata": {}
        }
      ]
    },
    {
      "cell_type": "markdown",
      "source": [
        "Notemos que a pesar de que hay subidas y bajadas a largo plazo se observa una tendencia a que la variable Close siempre crezca."
      ],
      "metadata": {
        "id": "RsZeDSZRbWS7"
      }
    },
    {
      "cell_type": "markdown",
      "source": [
        "**Red Neuronal**"
      ],
      "metadata": {
        "id": "3Uy3P9LHiXKb"
      }
    },
    {
      "cell_type": "markdown",
      "source": [
        "El objetivo principal de este tema de Redes neuronales es construir un modelo predictivo capaz de prever el comportamiento futuro del precio de las acciones de Google con una precisión significativa. Esto proporcionará a los inversores y analistas una herramienta valiosa para tomar decisiones informadas sobre la compra, venta o retención de acciones de Google."
      ],
      "metadata": {
        "id": "bslXvhzlktr5"
      }
    },
    {
      "cell_type": "code",
      "source": [
        "#Importamos las librerías correspondientes:\n",
        "import numpy as np\n",
        "from matplotlib import pyplot as plt\n",
        "from sklearn.neural_network import MLPClassifier\n",
        "from sklearn.datasets import make_blobs\n",
        "from sklearn.model_selection import train_test_split\n",
        "from sklearn.neural_network import MLPRegressor\n",
        "from sklearn.preprocessing import StandardScaler"
      ],
      "metadata": {
        "id": "p9ALaNtHiZWu"
      },
      "execution_count": null,
      "outputs": []
    },
    {
      "cell_type": "code",
      "source": [
        "data_copy = data.copy()"
      ],
      "metadata": {
        "id": "jn4zRGESHC2W"
      },
      "execution_count": null,
      "outputs": []
    },
    {
      "cell_type": "code",
      "source": [
        "data_copy.head(10)"
      ],
      "metadata": {
        "id": "ys9vQjsBamei",
        "colab": {
          "base_uri": "https://localhost:8080/",
          "height": 363
        },
        "outputId": "40f69fe5-9917-4895-bcca-e31877bb5299"
      },
      "execution_count": null,
      "outputs": [
        {
          "output_type": "execute_result",
          "data": {
            "text/plain": [
              "         Date      Open      High       Low     Close  Adj Close     Volume\n",
              "0  2009-02-02  8.365616  8.633634  8.308308  8.522773   8.522773  208067724\n",
              "1  2009-02-03  8.572823  8.583584  8.354104  8.519770   8.519770  261997740\n",
              "2  2009-02-04  8.510260  8.869870  8.487738  8.583584   8.583584  272423304\n",
              "3  2009-02-05  8.531281  8.893393  8.433433  8.851852   8.851852  290285424\n",
              "4  2009-02-06  8.920420  9.354605  8.894895  9.291291   9.291291  281242476\n",
              "5  2009-02-09  9.291291  9.534535  9.191692  9.478729   9.478729  198892908\n",
              "6  2009-02-10  9.408909  9.446947  8.956206  8.971722   8.971722  283863852\n",
              "7  2009-02-11  8.982733  9.134134  8.833834  8.959960   8.959960  209054736\n",
              "8  2009-02-12  8.837838  9.099600  8.795796  9.085335   9.085335  221789988\n",
              "9  2009-02-13  9.063814  9.083834  8.889640  8.950951   8.950951  165702132"
            ],
            "text/html": [
              "\n",
              "  <div id=\"df-64be3e78-8e40-4be0-b0f1-ca2222b6355b\" class=\"colab-df-container\">\n",
              "    <div>\n",
              "<style scoped>\n",
              "    .dataframe tbody tr th:only-of-type {\n",
              "        vertical-align: middle;\n",
              "    }\n",
              "\n",
              "    .dataframe tbody tr th {\n",
              "        vertical-align: top;\n",
              "    }\n",
              "\n",
              "    .dataframe thead th {\n",
              "        text-align: right;\n",
              "    }\n",
              "</style>\n",
              "<table border=\"1\" class=\"dataframe\">\n",
              "  <thead>\n",
              "    <tr style=\"text-align: right;\">\n",
              "      <th></th>\n",
              "      <th>Date</th>\n",
              "      <th>Open</th>\n",
              "      <th>High</th>\n",
              "      <th>Low</th>\n",
              "      <th>Close</th>\n",
              "      <th>Adj Close</th>\n",
              "      <th>Volume</th>\n",
              "    </tr>\n",
              "  </thead>\n",
              "  <tbody>\n",
              "    <tr>\n",
              "      <th>0</th>\n",
              "      <td>2009-02-02</td>\n",
              "      <td>8.365616</td>\n",
              "      <td>8.633634</td>\n",
              "      <td>8.308308</td>\n",
              "      <td>8.522773</td>\n",
              "      <td>8.522773</td>\n",
              "      <td>208067724</td>\n",
              "    </tr>\n",
              "    <tr>\n",
              "      <th>1</th>\n",
              "      <td>2009-02-03</td>\n",
              "      <td>8.572823</td>\n",
              "      <td>8.583584</td>\n",
              "      <td>8.354104</td>\n",
              "      <td>8.519770</td>\n",
              "      <td>8.519770</td>\n",
              "      <td>261997740</td>\n",
              "    </tr>\n",
              "    <tr>\n",
              "      <th>2</th>\n",
              "      <td>2009-02-04</td>\n",
              "      <td>8.510260</td>\n",
              "      <td>8.869870</td>\n",
              "      <td>8.487738</td>\n",
              "      <td>8.583584</td>\n",
              "      <td>8.583584</td>\n",
              "      <td>272423304</td>\n",
              "    </tr>\n",
              "    <tr>\n",
              "      <th>3</th>\n",
              "      <td>2009-02-05</td>\n",
              "      <td>8.531281</td>\n",
              "      <td>8.893393</td>\n",
              "      <td>8.433433</td>\n",
              "      <td>8.851852</td>\n",
              "      <td>8.851852</td>\n",
              "      <td>290285424</td>\n",
              "    </tr>\n",
              "    <tr>\n",
              "      <th>4</th>\n",
              "      <td>2009-02-06</td>\n",
              "      <td>8.920420</td>\n",
              "      <td>9.354605</td>\n",
              "      <td>8.894895</td>\n",
              "      <td>9.291291</td>\n",
              "      <td>9.291291</td>\n",
              "      <td>281242476</td>\n",
              "    </tr>\n",
              "    <tr>\n",
              "      <th>5</th>\n",
              "      <td>2009-02-09</td>\n",
              "      <td>9.291291</td>\n",
              "      <td>9.534535</td>\n",
              "      <td>9.191692</td>\n",
              "      <td>9.478729</td>\n",
              "      <td>9.478729</td>\n",
              "      <td>198892908</td>\n",
              "    </tr>\n",
              "    <tr>\n",
              "      <th>6</th>\n",
              "      <td>2009-02-10</td>\n",
              "      <td>9.408909</td>\n",
              "      <td>9.446947</td>\n",
              "      <td>8.956206</td>\n",
              "      <td>8.971722</td>\n",
              "      <td>8.971722</td>\n",
              "      <td>283863852</td>\n",
              "    </tr>\n",
              "    <tr>\n",
              "      <th>7</th>\n",
              "      <td>2009-02-11</td>\n",
              "      <td>8.982733</td>\n",
              "      <td>9.134134</td>\n",
              "      <td>8.833834</td>\n",
              "      <td>8.959960</td>\n",
              "      <td>8.959960</td>\n",
              "      <td>209054736</td>\n",
              "    </tr>\n",
              "    <tr>\n",
              "      <th>8</th>\n",
              "      <td>2009-02-12</td>\n",
              "      <td>8.837838</td>\n",
              "      <td>9.099600</td>\n",
              "      <td>8.795796</td>\n",
              "      <td>9.085335</td>\n",
              "      <td>9.085335</td>\n",
              "      <td>221789988</td>\n",
              "    </tr>\n",
              "    <tr>\n",
              "      <th>9</th>\n",
              "      <td>2009-02-13</td>\n",
              "      <td>9.063814</td>\n",
              "      <td>9.083834</td>\n",
              "      <td>8.889640</td>\n",
              "      <td>8.950951</td>\n",
              "      <td>8.950951</td>\n",
              "      <td>165702132</td>\n",
              "    </tr>\n",
              "  </tbody>\n",
              "</table>\n",
              "</div>\n",
              "    <div class=\"colab-df-buttons\">\n",
              "\n",
              "  <div class=\"colab-df-container\">\n",
              "    <button class=\"colab-df-convert\" onclick=\"convertToInteractive('df-64be3e78-8e40-4be0-b0f1-ca2222b6355b')\"\n",
              "            title=\"Convert this dataframe to an interactive table.\"\n",
              "            style=\"display:none;\">\n",
              "\n",
              "  <svg xmlns=\"http://www.w3.org/2000/svg\" height=\"24px\" viewBox=\"0 -960 960 960\">\n",
              "    <path d=\"M120-120v-720h720v720H120Zm60-500h600v-160H180v160Zm220 220h160v-160H400v160Zm0 220h160v-160H400v160ZM180-400h160v-160H180v160Zm440 0h160v-160H620v160ZM180-180h160v-160H180v160Zm440 0h160v-160H620v160Z\"/>\n",
              "  </svg>\n",
              "    </button>\n",
              "\n",
              "  <style>\n",
              "    .colab-df-container {\n",
              "      display:flex;\n",
              "      gap: 12px;\n",
              "    }\n",
              "\n",
              "    .colab-df-convert {\n",
              "      background-color: #E8F0FE;\n",
              "      border: none;\n",
              "      border-radius: 50%;\n",
              "      cursor: pointer;\n",
              "      display: none;\n",
              "      fill: #1967D2;\n",
              "      height: 32px;\n",
              "      padding: 0 0 0 0;\n",
              "      width: 32px;\n",
              "    }\n",
              "\n",
              "    .colab-df-convert:hover {\n",
              "      background-color: #E2EBFA;\n",
              "      box-shadow: 0px 1px 2px rgba(60, 64, 67, 0.3), 0px 1px 3px 1px rgba(60, 64, 67, 0.15);\n",
              "      fill: #174EA6;\n",
              "    }\n",
              "\n",
              "    .colab-df-buttons div {\n",
              "      margin-bottom: 4px;\n",
              "    }\n",
              "\n",
              "    [theme=dark] .colab-df-convert {\n",
              "      background-color: #3B4455;\n",
              "      fill: #D2E3FC;\n",
              "    }\n",
              "\n",
              "    [theme=dark] .colab-df-convert:hover {\n",
              "      background-color: #434B5C;\n",
              "      box-shadow: 0px 1px 3px 1px rgba(0, 0, 0, 0.15);\n",
              "      filter: drop-shadow(0px 1px 2px rgba(0, 0, 0, 0.3));\n",
              "      fill: #FFFFFF;\n",
              "    }\n",
              "  </style>\n",
              "\n",
              "    <script>\n",
              "      const buttonEl =\n",
              "        document.querySelector('#df-64be3e78-8e40-4be0-b0f1-ca2222b6355b button.colab-df-convert');\n",
              "      buttonEl.style.display =\n",
              "        google.colab.kernel.accessAllowed ? 'block' : 'none';\n",
              "\n",
              "      async function convertToInteractive(key) {\n",
              "        const element = document.querySelector('#df-64be3e78-8e40-4be0-b0f1-ca2222b6355b');\n",
              "        const dataTable =\n",
              "          await google.colab.kernel.invokeFunction('convertToInteractive',\n",
              "                                                    [key], {});\n",
              "        if (!dataTable) return;\n",
              "\n",
              "        const docLinkHtml = 'Like what you see? Visit the ' +\n",
              "          '<a target=\"_blank\" href=https://colab.research.google.com/notebooks/data_table.ipynb>data table notebook</a>'\n",
              "          + ' to learn more about interactive tables.';\n",
              "        element.innerHTML = '';\n",
              "        dataTable['output_type'] = 'display_data';\n",
              "        await google.colab.output.renderOutput(dataTable, element);\n",
              "        const docLink = document.createElement('div');\n",
              "        docLink.innerHTML = docLinkHtml;\n",
              "        element.appendChild(docLink);\n",
              "      }\n",
              "    </script>\n",
              "  </div>\n",
              "\n",
              "\n",
              "<div id=\"df-a3026348-0b78-455c-bf2e-e98a1bd5bef6\">\n",
              "  <button class=\"colab-df-quickchart\" onclick=\"quickchart('df-a3026348-0b78-455c-bf2e-e98a1bd5bef6')\"\n",
              "            title=\"Suggest charts\"\n",
              "            style=\"display:none;\">\n",
              "\n",
              "<svg xmlns=\"http://www.w3.org/2000/svg\" height=\"24px\"viewBox=\"0 0 24 24\"\n",
              "     width=\"24px\">\n",
              "    <g>\n",
              "        <path d=\"M19 3H5c-1.1 0-2 .9-2 2v14c0 1.1.9 2 2 2h14c1.1 0 2-.9 2-2V5c0-1.1-.9-2-2-2zM9 17H7v-7h2v7zm4 0h-2V7h2v10zm4 0h-2v-4h2v4z\"/>\n",
              "    </g>\n",
              "</svg>\n",
              "  </button>\n",
              "\n",
              "<style>\n",
              "  .colab-df-quickchart {\n",
              "      --bg-color: #E8F0FE;\n",
              "      --fill-color: #1967D2;\n",
              "      --hover-bg-color: #E2EBFA;\n",
              "      --hover-fill-color: #174EA6;\n",
              "      --disabled-fill-color: #AAA;\n",
              "      --disabled-bg-color: #DDD;\n",
              "  }\n",
              "\n",
              "  [theme=dark] .colab-df-quickchart {\n",
              "      --bg-color: #3B4455;\n",
              "      --fill-color: #D2E3FC;\n",
              "      --hover-bg-color: #434B5C;\n",
              "      --hover-fill-color: #FFFFFF;\n",
              "      --disabled-bg-color: #3B4455;\n",
              "      --disabled-fill-color: #666;\n",
              "  }\n",
              "\n",
              "  .colab-df-quickchart {\n",
              "    background-color: var(--bg-color);\n",
              "    border: none;\n",
              "    border-radius: 50%;\n",
              "    cursor: pointer;\n",
              "    display: none;\n",
              "    fill: var(--fill-color);\n",
              "    height: 32px;\n",
              "    padding: 0;\n",
              "    width: 32px;\n",
              "  }\n",
              "\n",
              "  .colab-df-quickchart:hover {\n",
              "    background-color: var(--hover-bg-color);\n",
              "    box-shadow: 0 1px 2px rgba(60, 64, 67, 0.3), 0 1px 3px 1px rgba(60, 64, 67, 0.15);\n",
              "    fill: var(--button-hover-fill-color);\n",
              "  }\n",
              "\n",
              "  .colab-df-quickchart-complete:disabled,\n",
              "  .colab-df-quickchart-complete:disabled:hover {\n",
              "    background-color: var(--disabled-bg-color);\n",
              "    fill: var(--disabled-fill-color);\n",
              "    box-shadow: none;\n",
              "  }\n",
              "\n",
              "  .colab-df-spinner {\n",
              "    border: 2px solid var(--fill-color);\n",
              "    border-color: transparent;\n",
              "    border-bottom-color: var(--fill-color);\n",
              "    animation:\n",
              "      spin 1s steps(1) infinite;\n",
              "  }\n",
              "\n",
              "  @keyframes spin {\n",
              "    0% {\n",
              "      border-color: transparent;\n",
              "      border-bottom-color: var(--fill-color);\n",
              "      border-left-color: var(--fill-color);\n",
              "    }\n",
              "    20% {\n",
              "      border-color: transparent;\n",
              "      border-left-color: var(--fill-color);\n",
              "      border-top-color: var(--fill-color);\n",
              "    }\n",
              "    30% {\n",
              "      border-color: transparent;\n",
              "      border-left-color: var(--fill-color);\n",
              "      border-top-color: var(--fill-color);\n",
              "      border-right-color: var(--fill-color);\n",
              "    }\n",
              "    40% {\n",
              "      border-color: transparent;\n",
              "      border-right-color: var(--fill-color);\n",
              "      border-top-color: var(--fill-color);\n",
              "    }\n",
              "    60% {\n",
              "      border-color: transparent;\n",
              "      border-right-color: var(--fill-color);\n",
              "    }\n",
              "    80% {\n",
              "      border-color: transparent;\n",
              "      border-right-color: var(--fill-color);\n",
              "      border-bottom-color: var(--fill-color);\n",
              "    }\n",
              "    90% {\n",
              "      border-color: transparent;\n",
              "      border-bottom-color: var(--fill-color);\n",
              "    }\n",
              "  }\n",
              "</style>\n",
              "\n",
              "  <script>\n",
              "    async function quickchart(key) {\n",
              "      const quickchartButtonEl =\n",
              "        document.querySelector('#' + key + ' button');\n",
              "      quickchartButtonEl.disabled = true;  // To prevent multiple clicks.\n",
              "      quickchartButtonEl.classList.add('colab-df-spinner');\n",
              "      try {\n",
              "        const charts = await google.colab.kernel.invokeFunction(\n",
              "            'suggestCharts', [key], {});\n",
              "      } catch (error) {\n",
              "        console.error('Error during call to suggestCharts:', error);\n",
              "      }\n",
              "      quickchartButtonEl.classList.remove('colab-df-spinner');\n",
              "      quickchartButtonEl.classList.add('colab-df-quickchart-complete');\n",
              "    }\n",
              "    (() => {\n",
              "      let quickchartButtonEl =\n",
              "        document.querySelector('#df-a3026348-0b78-455c-bf2e-e98a1bd5bef6 button');\n",
              "      quickchartButtonEl.style.display =\n",
              "        google.colab.kernel.accessAllowed ? 'block' : 'none';\n",
              "    })();\n",
              "  </script>\n",
              "</div>\n",
              "    </div>\n",
              "  </div>\n"
            ],
            "application/vnd.google.colaboratory.intrinsic+json": {
              "type": "dataframe",
              "variable_name": "data_copy",
              "summary": "{\n  \"name\": \"data_copy\",\n  \"rows\": 3774,\n  \"fields\": [\n    {\n      \"column\": \"Date\",\n      \"properties\": {\n        \"dtype\": \"object\",\n        \"num_unique_values\": 3774,\n        \"samples\": [\n          \"2009-06-16\",\n          \"2024-01-26\",\n          \"2019-07-24\"\n        ],\n        \"semantic_type\": \"\",\n        \"description\": \"\"\n      }\n    },\n    {\n      \"column\": \"Open\",\n      \"properties\": {\n        \"dtype\": \"number\",\n        \"std\": 39.706664240754264,\n        \"min\": 7.463714,\n        \"max\": 152.800003,\n        \"num_unique_values\": 3677,\n        \"samples\": [\n          49.764999,\n          37.8825,\n          138.419998\n        ],\n        \"semantic_type\": \"\",\n        \"description\": \"\"\n      }\n    },\n    {\n      \"column\": \"High\",\n      \"properties\": {\n        \"dtype\": \"number\",\n        \"std\": 40.17055727106234,\n        \"min\": 7.671922,\n        \"max\": 153.779999,\n        \"num_unique_values\": 3664,\n        \"samples\": [\n          51.935001,\n          62.401001,\n          49.881001\n        ],\n        \"semantic_type\": \"\",\n        \"description\": \"\"\n      }\n    },\n    {\n      \"column\": \"Low\",\n      \"properties\": {\n        \"dtype\": \"number\",\n        \"std\": 39.274627515246316,\n        \"min\": 7.243493,\n        \"max\": 151.429993,\n        \"num_unique_values\": 3692,\n        \"samples\": [\n          11.323824,\n          119.230003,\n          13.063313\n        ],\n        \"semantic_type\": \"\",\n        \"description\": \"\"\n      }\n    },\n    {\n      \"column\": \"Close\",\n      \"properties\": {\n        \"dtype\": \"number\",\n        \"std\": 39.73147732089713,\n        \"min\": 7.27953,\n        \"max\": 153.509995,\n        \"num_unique_values\": 3720,\n        \"samples\": [\n          18.931431,\n          134.571503,\n          55.0\n        ],\n        \"semantic_type\": \"\",\n        \"description\": \"\"\n      }\n    },\n    {\n      \"column\": \"Adj Close\",\n      \"properties\": {\n        \"dtype\": \"number\",\n        \"std\": 39.73147732089713,\n        \"min\": 7.27953,\n        \"max\": 153.509995,\n        \"num_unique_values\": 3720,\n        \"samples\": [\n          18.931431,\n          134.571503,\n          55.0\n        ],\n        \"semantic_type\": \"\",\n        \"description\": \"\"\n      }\n    },\n    {\n      \"column\": \"Volume\",\n      \"properties\": {\n        \"dtype\": \"number\",\n        \"std\": 52667026,\n        \"min\": 9312000,\n        \"max\": 592399008,\n        \"num_unique_values\": 3658,\n        \"samples\": [\n          183104712,\n          59574000,\n          89941968\n        ],\n        \"semantic_type\": \"\",\n        \"description\": \"\"\n      }\n    }\n  ]\n}"
            }
          },
          "metadata": {},
          "execution_count": 6
        }
      ]
    },
    {
      "cell_type": "code",
      "source": [
        "max_values = data_copy.max()\n",
        "min_values = data_copy.min()\n"
      ],
      "metadata": {
        "id": "02ad4MpbrSPi"
      },
      "execution_count": null,
      "outputs": []
    },
    {
      "cell_type": "code",
      "source": [
        "print(\"Valor máximo de cada columna:\")\n",
        "print(max_values)\n",
        "\n",
        "print(\"\\nValor mínimo de cada columna:\")\n",
        "print(min_values)"
      ],
      "metadata": {
        "colab": {
          "base_uri": "https://localhost:8080/"
        },
        "id": "bs8d_jzsr6D6",
        "outputId": "86ef836d-34c1-4d2b-c9aa-b6d0031bae07"
      },
      "execution_count": null,
      "outputs": [
        {
          "output_type": "stream",
          "name": "stdout",
          "text": [
            "Valor máximo de cada columna:\n",
            "Date         2024-01-30\n",
            "Open         152.800003\n",
            "High         153.779999\n",
            "Low          151.429993\n",
            "Close        153.509995\n",
            "Adj Close    153.509995\n",
            "Volume        592399008\n",
            "dtype: object\n",
            "\n",
            "Valor mínimo de cada columna:\n",
            "Date         2009-02-02\n",
            "Open           7.463714\n",
            "High           7.671922\n",
            "Low            7.243493\n",
            "Close           7.27953\n",
            "Adj Close       7.27953\n",
            "Volume          9312000\n",
            "dtype: object\n"
          ]
        }
      ]
    },
    {
      "cell_type": "code",
      "source": [
        "# Aplicar pd.cut a la columna 'Close' para crear la categoría\n",
        "data_copy['Close_Category'] = pd.cut(data_copy['Close'], bins=3, labels=['Low', 'Medium', 'High'])\n",
        "\n",
        "# Convertir 'Close_Category' a tipo categórico\n",
        "data_copy['Close_Category'] = data_copy['Close_Category'].astype('category')\n",
        "\n",
        "# Dividir los datos en características (X) y la variable objetivo (y)\n",
        "X = data_copy[['Open', 'High', 'Low', 'Adj Close', 'Volume']].values\n",
        "y = data_copy['Close_Category'].values"
      ],
      "metadata": {
        "id": "0IZZuREWd3bR"
      },
      "execution_count": null,
      "outputs": []
    },
    {
      "cell_type": "markdown",
      "source": [
        "**Significado de las Clases:** Hemos dividido la columna 'Close' en tres categorías ('Low', 'Medium', 'High'):\n",
        "* Low (Bajo): Representa valores de cierre considerados bajos en comparación con\n",
        "el rango total de valores de cierre.\n",
        "* Medium (Medio): Representa valores de cierre que están en un rango intermedio en comparación con el rango total de valores de cierre.\n",
        "* High (Alto): Representa valores de cierre considerados altos en comparación con el rango total de valores de cierre."
      ],
      "metadata": {
        "id": "WNaUWhLaRlA4"
      }
    },
    {
      "cell_type": "code",
      "source": [
        "# Dividimos los datos en conjuntos de entrenamiento y prueba\n",
        "X_train, X_test, y_train, y_test = train_test_split(X, y, test_size=0.4, random_state=42)"
      ],
      "metadata": {
        "id": "L6j1qJCJeoCC"
      },
      "execution_count": null,
      "outputs": []
    },
    {
      "cell_type": "code",
      "source": [
        "# Escalamos los datos\n",
        "scaler = StandardScaler()\n",
        "X_train_scaled = scaler.fit_transform(X_train)\n",
        "X_test_scaled = scaler.transform(X_test)"
      ],
      "metadata": {
        "id": "RWrqNg1IqHHa"
      },
      "execution_count": null,
      "outputs": []
    },
    {
      "cell_type": "code",
      "source": [
        "from sklearn.neural_network import MLPClassifier\n",
        "# Creamos y entrenamos el modelo de red neuronal\n",
        "redNeuronal = MLPClassifier(hidden_layer_sizes=(50,), max_iter=200, activation='relu', alpha=0.001, random_state=42)\n",
        "redNeuronal.fit(X_train_scaled, y_train)"
      ],
      "metadata": {
        "id": "17RCuQNWJnbn",
        "colab": {
          "base_uri": "https://localhost:8080/",
          "height": 110
        },
        "outputId": "abf94f09-20a2-44e7-8c31-bf84e299ecae"
      },
      "execution_count": null,
      "outputs": [
        {
          "output_type": "stream",
          "name": "stderr",
          "text": [
            "/usr/local/lib/python3.10/dist-packages/sklearn/neural_network/_multilayer_perceptron.py:686: ConvergenceWarning: Stochastic Optimizer: Maximum iterations (200) reached and the optimization hasn't converged yet.\n",
            "  warnings.warn(\n"
          ]
        },
        {
          "output_type": "execute_result",
          "data": {
            "text/plain": [
              "MLPClassifier(alpha=0.001, hidden_layer_sizes=(50,), random_state=42)"
            ],
            "text/html": [
              "<style>#sk-container-id-5 {color: black;background-color: white;}#sk-container-id-5 pre{padding: 0;}#sk-container-id-5 div.sk-toggleable {background-color: white;}#sk-container-id-5 label.sk-toggleable__label {cursor: pointer;display: block;width: 100%;margin-bottom: 0;padding: 0.3em;box-sizing: border-box;text-align: center;}#sk-container-id-5 label.sk-toggleable__label-arrow:before {content: \"▸\";float: left;margin-right: 0.25em;color: #696969;}#sk-container-id-5 label.sk-toggleable__label-arrow:hover:before {color: black;}#sk-container-id-5 div.sk-estimator:hover label.sk-toggleable__label-arrow:before {color: black;}#sk-container-id-5 div.sk-toggleable__content {max-height: 0;max-width: 0;overflow: hidden;text-align: left;background-color: #f0f8ff;}#sk-container-id-5 div.sk-toggleable__content pre {margin: 0.2em;color: black;border-radius: 0.25em;background-color: #f0f8ff;}#sk-container-id-5 input.sk-toggleable__control:checked~div.sk-toggleable__content {max-height: 200px;max-width: 100%;overflow: auto;}#sk-container-id-5 input.sk-toggleable__control:checked~label.sk-toggleable__label-arrow:before {content: \"▾\";}#sk-container-id-5 div.sk-estimator input.sk-toggleable__control:checked~label.sk-toggleable__label {background-color: #d4ebff;}#sk-container-id-5 div.sk-label input.sk-toggleable__control:checked~label.sk-toggleable__label {background-color: #d4ebff;}#sk-container-id-5 input.sk-hidden--visually {border: 0;clip: rect(1px 1px 1px 1px);clip: rect(1px, 1px, 1px, 1px);height: 1px;margin: -1px;overflow: hidden;padding: 0;position: absolute;width: 1px;}#sk-container-id-5 div.sk-estimator {font-family: monospace;background-color: #f0f8ff;border: 1px dotted black;border-radius: 0.25em;box-sizing: border-box;margin-bottom: 0.5em;}#sk-container-id-5 div.sk-estimator:hover {background-color: #d4ebff;}#sk-container-id-5 div.sk-parallel-item::after {content: \"\";width: 100%;border-bottom: 1px solid gray;flex-grow: 1;}#sk-container-id-5 div.sk-label:hover label.sk-toggleable__label {background-color: #d4ebff;}#sk-container-id-5 div.sk-serial::before {content: \"\";position: absolute;border-left: 1px solid gray;box-sizing: border-box;top: 0;bottom: 0;left: 50%;z-index: 0;}#sk-container-id-5 div.sk-serial {display: flex;flex-direction: column;align-items: center;background-color: white;padding-right: 0.2em;padding-left: 0.2em;position: relative;}#sk-container-id-5 div.sk-item {position: relative;z-index: 1;}#sk-container-id-5 div.sk-parallel {display: flex;align-items: stretch;justify-content: center;background-color: white;position: relative;}#sk-container-id-5 div.sk-item::before, #sk-container-id-5 div.sk-parallel-item::before {content: \"\";position: absolute;border-left: 1px solid gray;box-sizing: border-box;top: 0;bottom: 0;left: 50%;z-index: -1;}#sk-container-id-5 div.sk-parallel-item {display: flex;flex-direction: column;z-index: 1;position: relative;background-color: white;}#sk-container-id-5 div.sk-parallel-item:first-child::after {align-self: flex-end;width: 50%;}#sk-container-id-5 div.sk-parallel-item:last-child::after {align-self: flex-start;width: 50%;}#sk-container-id-5 div.sk-parallel-item:only-child::after {width: 0;}#sk-container-id-5 div.sk-dashed-wrapped {border: 1px dashed gray;margin: 0 0.4em 0.5em 0.4em;box-sizing: border-box;padding-bottom: 0.4em;background-color: white;}#sk-container-id-5 div.sk-label label {font-family: monospace;font-weight: bold;display: inline-block;line-height: 1.2em;}#sk-container-id-5 div.sk-label-container {text-align: center;}#sk-container-id-5 div.sk-container {/* jupyter's `normalize.less` sets `[hidden] { display: none; }` but bootstrap.min.css set `[hidden] { display: none !important; }` so we also need the `!important` here to be able to override the default hidden behavior on the sphinx rendered scikit-learn.org. See: https://github.com/scikit-learn/scikit-learn/issues/21755 */display: inline-block !important;position: relative;}#sk-container-id-5 div.sk-text-repr-fallback {display: none;}</style><div id=\"sk-container-id-5\" class=\"sk-top-container\"><div class=\"sk-text-repr-fallback\"><pre>MLPClassifier(alpha=0.001, hidden_layer_sizes=(50,), random_state=42)</pre><b>In a Jupyter environment, please rerun this cell to show the HTML representation or trust the notebook. <br />On GitHub, the HTML representation is unable to render, please try loading this page with nbviewer.org.</b></div><div class=\"sk-container\" hidden><div class=\"sk-item\"><div class=\"sk-estimator sk-toggleable\"><input class=\"sk-toggleable__control sk-hidden--visually\" id=\"sk-estimator-id-5\" type=\"checkbox\" checked><label for=\"sk-estimator-id-5\" class=\"sk-toggleable__label sk-toggleable__label-arrow\">MLPClassifier</label><div class=\"sk-toggleable__content\"><pre>MLPClassifier(alpha=0.001, hidden_layer_sizes=(50,), random_state=42)</pre></div></div></div></div></div>"
            ]
          },
          "metadata": {},
          "execution_count": 52
        }
      ]
    },
    {
      "cell_type": "code",
      "source": [
        "# Realizamos predicciones en el conjunto de prueba\n",
        "y_pred = redNeuronal.predict(X_test_scaled)"
      ],
      "metadata": {
        "id": "VbzHgRmTLqvt"
      },
      "execution_count": null,
      "outputs": []
    },
    {
      "cell_type": "code",
      "source": [
        "# Evaluamos el modelo utilizando la matriz de confusión y la precisión\n",
        "conf_matrix = confusion_matrix(y_test, y_pred)\n",
        "print(\"Confusion matrix:\\n\", conf_matrix)\n",
        "\n",
        "accuracy = accuracy_score(y_test, y_pred)\n",
        "print(\"Accuracy:\", accuracy)"
      ],
      "metadata": {
        "id": "K39rPbnqJvzE",
        "colab": {
          "base_uri": "https://localhost:8080/"
        },
        "outputId": "0bbfec4f-5bc2-470e-fec6-476cc87e41fb"
      },
      "execution_count": null,
      "outputs": [
        {
          "output_type": "stream",
          "name": "stdout",
          "text": [
            "Confusion matrix:\n",
            " [[217   0   6]\n",
            " [  0 984   3]\n",
            " [  3   6 291]]\n",
            "Accuracy: 0.9880794701986755\n"
          ]
        }
      ]
    },
    {
      "cell_type": "code",
      "source": [
        "import numpy as np\n",
        "import matplotlib.pyplot as plt\n",
        "from sklearn.neural_network import MLPClassifier\n",
        "from sklearn.preprocessing import StandardScaler\n",
        "from sklearn.model_selection import train_test_split\n",
        "from sklearn.metrics import accuracy_score\n",
        "\n",
        "\n",
        "# Definir el rango de iteraciones\n",
        "max_iterations = 100\n",
        "iterations = np.arange(1, max_iterations + 1)\n",
        "\n",
        "# Listas para almacenar la precisión en el conjunto de entrenamiento y prueba\n",
        "train_accuracy = []\n",
        "test_accuracy = []\n",
        "\n",
        "# Entrenamiento de la red neuronal para diferentes números de iteraciones\n",
        "for i in iterations:\n",
        "    redNeuronal = MLPClassifier(hidden_layer_sizes=(100,), max_iter=i, activation='relu', random_state=42)\n",
        "    redNeuronal.fit(X_train_scaled, y_train)\n",
        "\n",
        "    # Predicción en el conjunto de entrenamiento\n",
        "    y_train_pred = redNeuronal.predict(X_train_scaled)\n",
        "    train_accuracy.append(accuracy_score(y_train, y_train_pred))\n",
        "\n",
        "    # Predicción en el conjunto de prueba\n",
        "    y_test_pred = redNeuronal.predict(X_test_scaled)\n",
        "    test_accuracy.append(accuracy_score(y_test, y_test_pred))\n",
        "\n",
        "# Graficar la precisión en función del número de iteraciones\n",
        "plt.figure(figsize=(10, 6))\n",
        "plt.plot(iterations, train_accuracy, label='Training Accuracy')\n",
        "plt.plot(iterations, test_accuracy, label='Test Accuracy')\n",
        "plt.title('Learning Curve for Neural Network')\n",
        "plt.xlabel('Number of Iterations')\n",
        "plt.ylabel('Accuracy')\n",
        "plt.legend()\n",
        "plt.grid(True)\n",
        "plt.show()\n"
      ],
      "metadata": {
        "id": "4f5awr6oVYgX",
        "colab": {
          "base_uri": "https://localhost:8080/",
          "height": 1000
        },
        "outputId": "d253de6a-1c15-41d8-98d8-75737babbb73"
      },
      "execution_count": null,
      "outputs": [
        {
          "output_type": "stream",
          "name": "stderr",
          "text": [
            "/usr/local/lib/python3.10/dist-packages/sklearn/neural_network/_multilayer_perceptron.py:686: ConvergenceWarning: Stochastic Optimizer: Maximum iterations (1) reached and the optimization hasn't converged yet.\n",
            "  warnings.warn(\n",
            "/usr/local/lib/python3.10/dist-packages/sklearn/neural_network/_multilayer_perceptron.py:686: ConvergenceWarning: Stochastic Optimizer: Maximum iterations (2) reached and the optimization hasn't converged yet.\n",
            "  warnings.warn(\n",
            "/usr/local/lib/python3.10/dist-packages/sklearn/neural_network/_multilayer_perceptron.py:686: ConvergenceWarning: Stochastic Optimizer: Maximum iterations (3) reached and the optimization hasn't converged yet.\n",
            "  warnings.warn(\n",
            "/usr/local/lib/python3.10/dist-packages/sklearn/neural_network/_multilayer_perceptron.py:686: ConvergenceWarning: Stochastic Optimizer: Maximum iterations (4) reached and the optimization hasn't converged yet.\n",
            "  warnings.warn(\n",
            "/usr/local/lib/python3.10/dist-packages/sklearn/neural_network/_multilayer_perceptron.py:686: ConvergenceWarning: Stochastic Optimizer: Maximum iterations (5) reached and the optimization hasn't converged yet.\n",
            "  warnings.warn(\n",
            "/usr/local/lib/python3.10/dist-packages/sklearn/neural_network/_multilayer_perceptron.py:686: ConvergenceWarning: Stochastic Optimizer: Maximum iterations (6) reached and the optimization hasn't converged yet.\n",
            "  warnings.warn(\n",
            "/usr/local/lib/python3.10/dist-packages/sklearn/neural_network/_multilayer_perceptron.py:686: ConvergenceWarning: Stochastic Optimizer: Maximum iterations (7) reached and the optimization hasn't converged yet.\n",
            "  warnings.warn(\n",
            "/usr/local/lib/python3.10/dist-packages/sklearn/neural_network/_multilayer_perceptron.py:686: ConvergenceWarning: Stochastic Optimizer: Maximum iterations (8) reached and the optimization hasn't converged yet.\n",
            "  warnings.warn(\n",
            "/usr/local/lib/python3.10/dist-packages/sklearn/neural_network/_multilayer_perceptron.py:686: ConvergenceWarning: Stochastic Optimizer: Maximum iterations (9) reached and the optimization hasn't converged yet.\n",
            "  warnings.warn(\n",
            "/usr/local/lib/python3.10/dist-packages/sklearn/neural_network/_multilayer_perceptron.py:686: ConvergenceWarning: Stochastic Optimizer: Maximum iterations (10) reached and the optimization hasn't converged yet.\n",
            "  warnings.warn(\n",
            "/usr/local/lib/python3.10/dist-packages/sklearn/neural_network/_multilayer_perceptron.py:686: ConvergenceWarning: Stochastic Optimizer: Maximum iterations (11) reached and the optimization hasn't converged yet.\n",
            "  warnings.warn(\n",
            "/usr/local/lib/python3.10/dist-packages/sklearn/neural_network/_multilayer_perceptron.py:686: ConvergenceWarning: Stochastic Optimizer: Maximum iterations (12) reached and the optimization hasn't converged yet.\n",
            "  warnings.warn(\n",
            "/usr/local/lib/python3.10/dist-packages/sklearn/neural_network/_multilayer_perceptron.py:686: ConvergenceWarning: Stochastic Optimizer: Maximum iterations (13) reached and the optimization hasn't converged yet.\n",
            "  warnings.warn(\n",
            "/usr/local/lib/python3.10/dist-packages/sklearn/neural_network/_multilayer_perceptron.py:686: ConvergenceWarning: Stochastic Optimizer: Maximum iterations (14) reached and the optimization hasn't converged yet.\n",
            "  warnings.warn(\n",
            "/usr/local/lib/python3.10/dist-packages/sklearn/neural_network/_multilayer_perceptron.py:686: ConvergenceWarning: Stochastic Optimizer: Maximum iterations (15) reached and the optimization hasn't converged yet.\n",
            "  warnings.warn(\n",
            "/usr/local/lib/python3.10/dist-packages/sklearn/neural_network/_multilayer_perceptron.py:686: ConvergenceWarning: Stochastic Optimizer: Maximum iterations (16) reached and the optimization hasn't converged yet.\n",
            "  warnings.warn(\n",
            "/usr/local/lib/python3.10/dist-packages/sklearn/neural_network/_multilayer_perceptron.py:686: ConvergenceWarning: Stochastic Optimizer: Maximum iterations (17) reached and the optimization hasn't converged yet.\n",
            "  warnings.warn(\n",
            "/usr/local/lib/python3.10/dist-packages/sklearn/neural_network/_multilayer_perceptron.py:686: ConvergenceWarning: Stochastic Optimizer: Maximum iterations (18) reached and the optimization hasn't converged yet.\n",
            "  warnings.warn(\n",
            "/usr/local/lib/python3.10/dist-packages/sklearn/neural_network/_multilayer_perceptron.py:686: ConvergenceWarning: Stochastic Optimizer: Maximum iterations (19) reached and the optimization hasn't converged yet.\n",
            "  warnings.warn(\n",
            "/usr/local/lib/python3.10/dist-packages/sklearn/neural_network/_multilayer_perceptron.py:686: ConvergenceWarning: Stochastic Optimizer: Maximum iterations (20) reached and the optimization hasn't converged yet.\n",
            "  warnings.warn(\n",
            "/usr/local/lib/python3.10/dist-packages/sklearn/neural_network/_multilayer_perceptron.py:686: ConvergenceWarning: Stochastic Optimizer: Maximum iterations (21) reached and the optimization hasn't converged yet.\n",
            "  warnings.warn(\n",
            "/usr/local/lib/python3.10/dist-packages/sklearn/neural_network/_multilayer_perceptron.py:686: ConvergenceWarning: Stochastic Optimizer: Maximum iterations (22) reached and the optimization hasn't converged yet.\n",
            "  warnings.warn(\n",
            "/usr/local/lib/python3.10/dist-packages/sklearn/neural_network/_multilayer_perceptron.py:686: ConvergenceWarning: Stochastic Optimizer: Maximum iterations (23) reached and the optimization hasn't converged yet.\n",
            "  warnings.warn(\n",
            "/usr/local/lib/python3.10/dist-packages/sklearn/neural_network/_multilayer_perceptron.py:686: ConvergenceWarning: Stochastic Optimizer: Maximum iterations (24) reached and the optimization hasn't converged yet.\n",
            "  warnings.warn(\n",
            "/usr/local/lib/python3.10/dist-packages/sklearn/neural_network/_multilayer_perceptron.py:686: ConvergenceWarning: Stochastic Optimizer: Maximum iterations (25) reached and the optimization hasn't converged yet.\n",
            "  warnings.warn(\n",
            "/usr/local/lib/python3.10/dist-packages/sklearn/neural_network/_multilayer_perceptron.py:686: ConvergenceWarning: Stochastic Optimizer: Maximum iterations (26) reached and the optimization hasn't converged yet.\n",
            "  warnings.warn(\n",
            "/usr/local/lib/python3.10/dist-packages/sklearn/neural_network/_multilayer_perceptron.py:686: ConvergenceWarning: Stochastic Optimizer: Maximum iterations (27) reached and the optimization hasn't converged yet.\n",
            "  warnings.warn(\n",
            "/usr/local/lib/python3.10/dist-packages/sklearn/neural_network/_multilayer_perceptron.py:686: ConvergenceWarning: Stochastic Optimizer: Maximum iterations (28) reached and the optimization hasn't converged yet.\n",
            "  warnings.warn(\n",
            "/usr/local/lib/python3.10/dist-packages/sklearn/neural_network/_multilayer_perceptron.py:686: ConvergenceWarning: Stochastic Optimizer: Maximum iterations (29) reached and the optimization hasn't converged yet.\n",
            "  warnings.warn(\n",
            "/usr/local/lib/python3.10/dist-packages/sklearn/neural_network/_multilayer_perceptron.py:686: ConvergenceWarning: Stochastic Optimizer: Maximum iterations (30) reached and the optimization hasn't converged yet.\n",
            "  warnings.warn(\n",
            "/usr/local/lib/python3.10/dist-packages/sklearn/neural_network/_multilayer_perceptron.py:686: ConvergenceWarning: Stochastic Optimizer: Maximum iterations (31) reached and the optimization hasn't converged yet.\n",
            "  warnings.warn(\n",
            "/usr/local/lib/python3.10/dist-packages/sklearn/neural_network/_multilayer_perceptron.py:686: ConvergenceWarning: Stochastic Optimizer: Maximum iterations (32) reached and the optimization hasn't converged yet.\n",
            "  warnings.warn(\n",
            "/usr/local/lib/python3.10/dist-packages/sklearn/neural_network/_multilayer_perceptron.py:686: ConvergenceWarning: Stochastic Optimizer: Maximum iterations (33) reached and the optimization hasn't converged yet.\n",
            "  warnings.warn(\n",
            "/usr/local/lib/python3.10/dist-packages/sklearn/neural_network/_multilayer_perceptron.py:686: ConvergenceWarning: Stochastic Optimizer: Maximum iterations (34) reached and the optimization hasn't converged yet.\n",
            "  warnings.warn(\n",
            "/usr/local/lib/python3.10/dist-packages/sklearn/neural_network/_multilayer_perceptron.py:686: ConvergenceWarning: Stochastic Optimizer: Maximum iterations (35) reached and the optimization hasn't converged yet.\n",
            "  warnings.warn(\n",
            "/usr/local/lib/python3.10/dist-packages/sklearn/neural_network/_multilayer_perceptron.py:686: ConvergenceWarning: Stochastic Optimizer: Maximum iterations (36) reached and the optimization hasn't converged yet.\n",
            "  warnings.warn(\n",
            "/usr/local/lib/python3.10/dist-packages/sklearn/neural_network/_multilayer_perceptron.py:686: ConvergenceWarning: Stochastic Optimizer: Maximum iterations (37) reached and the optimization hasn't converged yet.\n",
            "  warnings.warn(\n",
            "/usr/local/lib/python3.10/dist-packages/sklearn/neural_network/_multilayer_perceptron.py:686: ConvergenceWarning: Stochastic Optimizer: Maximum iterations (38) reached and the optimization hasn't converged yet.\n",
            "  warnings.warn(\n",
            "/usr/local/lib/python3.10/dist-packages/sklearn/neural_network/_multilayer_perceptron.py:686: ConvergenceWarning: Stochastic Optimizer: Maximum iterations (39) reached and the optimization hasn't converged yet.\n",
            "  warnings.warn(\n",
            "/usr/local/lib/python3.10/dist-packages/sklearn/neural_network/_multilayer_perceptron.py:686: ConvergenceWarning: Stochastic Optimizer: Maximum iterations (40) reached and the optimization hasn't converged yet.\n",
            "  warnings.warn(\n",
            "/usr/local/lib/python3.10/dist-packages/sklearn/neural_network/_multilayer_perceptron.py:686: ConvergenceWarning: Stochastic Optimizer: Maximum iterations (41) reached and the optimization hasn't converged yet.\n",
            "  warnings.warn(\n",
            "/usr/local/lib/python3.10/dist-packages/sklearn/neural_network/_multilayer_perceptron.py:686: ConvergenceWarning: Stochastic Optimizer: Maximum iterations (42) reached and the optimization hasn't converged yet.\n",
            "  warnings.warn(\n",
            "/usr/local/lib/python3.10/dist-packages/sklearn/neural_network/_multilayer_perceptron.py:686: ConvergenceWarning: Stochastic Optimizer: Maximum iterations (43) reached and the optimization hasn't converged yet.\n",
            "  warnings.warn(\n",
            "/usr/local/lib/python3.10/dist-packages/sklearn/neural_network/_multilayer_perceptron.py:686: ConvergenceWarning: Stochastic Optimizer: Maximum iterations (44) reached and the optimization hasn't converged yet.\n",
            "  warnings.warn(\n",
            "/usr/local/lib/python3.10/dist-packages/sklearn/neural_network/_multilayer_perceptron.py:686: ConvergenceWarning: Stochastic Optimizer: Maximum iterations (45) reached and the optimization hasn't converged yet.\n",
            "  warnings.warn(\n",
            "/usr/local/lib/python3.10/dist-packages/sklearn/neural_network/_multilayer_perceptron.py:686: ConvergenceWarning: Stochastic Optimizer: Maximum iterations (46) reached and the optimization hasn't converged yet.\n",
            "  warnings.warn(\n",
            "/usr/local/lib/python3.10/dist-packages/sklearn/neural_network/_multilayer_perceptron.py:686: ConvergenceWarning: Stochastic Optimizer: Maximum iterations (47) reached and the optimization hasn't converged yet.\n",
            "  warnings.warn(\n",
            "/usr/local/lib/python3.10/dist-packages/sklearn/neural_network/_multilayer_perceptron.py:686: ConvergenceWarning: Stochastic Optimizer: Maximum iterations (48) reached and the optimization hasn't converged yet.\n",
            "  warnings.warn(\n",
            "/usr/local/lib/python3.10/dist-packages/sklearn/neural_network/_multilayer_perceptron.py:686: ConvergenceWarning: Stochastic Optimizer: Maximum iterations (49) reached and the optimization hasn't converged yet.\n",
            "  warnings.warn(\n",
            "/usr/local/lib/python3.10/dist-packages/sklearn/neural_network/_multilayer_perceptron.py:686: ConvergenceWarning: Stochastic Optimizer: Maximum iterations (50) reached and the optimization hasn't converged yet.\n",
            "  warnings.warn(\n",
            "/usr/local/lib/python3.10/dist-packages/sklearn/neural_network/_multilayer_perceptron.py:686: ConvergenceWarning: Stochastic Optimizer: Maximum iterations (51) reached and the optimization hasn't converged yet.\n",
            "  warnings.warn(\n",
            "/usr/local/lib/python3.10/dist-packages/sklearn/neural_network/_multilayer_perceptron.py:686: ConvergenceWarning: Stochastic Optimizer: Maximum iterations (52) reached and the optimization hasn't converged yet.\n",
            "  warnings.warn(\n",
            "/usr/local/lib/python3.10/dist-packages/sklearn/neural_network/_multilayer_perceptron.py:686: ConvergenceWarning: Stochastic Optimizer: Maximum iterations (53) reached and the optimization hasn't converged yet.\n",
            "  warnings.warn(\n",
            "/usr/local/lib/python3.10/dist-packages/sklearn/neural_network/_multilayer_perceptron.py:686: ConvergenceWarning: Stochastic Optimizer: Maximum iterations (54) reached and the optimization hasn't converged yet.\n",
            "  warnings.warn(\n",
            "/usr/local/lib/python3.10/dist-packages/sklearn/neural_network/_multilayer_perceptron.py:686: ConvergenceWarning: Stochastic Optimizer: Maximum iterations (55) reached and the optimization hasn't converged yet.\n",
            "  warnings.warn(\n",
            "/usr/local/lib/python3.10/dist-packages/sklearn/neural_network/_multilayer_perceptron.py:686: ConvergenceWarning: Stochastic Optimizer: Maximum iterations (56) reached and the optimization hasn't converged yet.\n",
            "  warnings.warn(\n",
            "/usr/local/lib/python3.10/dist-packages/sklearn/neural_network/_multilayer_perceptron.py:686: ConvergenceWarning: Stochastic Optimizer: Maximum iterations (57) reached and the optimization hasn't converged yet.\n",
            "  warnings.warn(\n",
            "/usr/local/lib/python3.10/dist-packages/sklearn/neural_network/_multilayer_perceptron.py:686: ConvergenceWarning: Stochastic Optimizer: Maximum iterations (58) reached and the optimization hasn't converged yet.\n",
            "  warnings.warn(\n",
            "/usr/local/lib/python3.10/dist-packages/sklearn/neural_network/_multilayer_perceptron.py:686: ConvergenceWarning: Stochastic Optimizer: Maximum iterations (59) reached and the optimization hasn't converged yet.\n",
            "  warnings.warn(\n",
            "/usr/local/lib/python3.10/dist-packages/sklearn/neural_network/_multilayer_perceptron.py:686: ConvergenceWarning: Stochastic Optimizer: Maximum iterations (60) reached and the optimization hasn't converged yet.\n",
            "  warnings.warn(\n",
            "/usr/local/lib/python3.10/dist-packages/sklearn/neural_network/_multilayer_perceptron.py:686: ConvergenceWarning: Stochastic Optimizer: Maximum iterations (61) reached and the optimization hasn't converged yet.\n",
            "  warnings.warn(\n",
            "/usr/local/lib/python3.10/dist-packages/sklearn/neural_network/_multilayer_perceptron.py:686: ConvergenceWarning: Stochastic Optimizer: Maximum iterations (62) reached and the optimization hasn't converged yet.\n",
            "  warnings.warn(\n",
            "/usr/local/lib/python3.10/dist-packages/sklearn/neural_network/_multilayer_perceptron.py:686: ConvergenceWarning: Stochastic Optimizer: Maximum iterations (63) reached and the optimization hasn't converged yet.\n",
            "  warnings.warn(\n",
            "/usr/local/lib/python3.10/dist-packages/sklearn/neural_network/_multilayer_perceptron.py:686: ConvergenceWarning: Stochastic Optimizer: Maximum iterations (64) reached and the optimization hasn't converged yet.\n",
            "  warnings.warn(\n",
            "/usr/local/lib/python3.10/dist-packages/sklearn/neural_network/_multilayer_perceptron.py:686: ConvergenceWarning: Stochastic Optimizer: Maximum iterations (65) reached and the optimization hasn't converged yet.\n",
            "  warnings.warn(\n",
            "/usr/local/lib/python3.10/dist-packages/sklearn/neural_network/_multilayer_perceptron.py:686: ConvergenceWarning: Stochastic Optimizer: Maximum iterations (66) reached and the optimization hasn't converged yet.\n",
            "  warnings.warn(\n",
            "/usr/local/lib/python3.10/dist-packages/sklearn/neural_network/_multilayer_perceptron.py:686: ConvergenceWarning: Stochastic Optimizer: Maximum iterations (67) reached and the optimization hasn't converged yet.\n",
            "  warnings.warn(\n",
            "/usr/local/lib/python3.10/dist-packages/sklearn/neural_network/_multilayer_perceptron.py:686: ConvergenceWarning: Stochastic Optimizer: Maximum iterations (68) reached and the optimization hasn't converged yet.\n",
            "  warnings.warn(\n",
            "/usr/local/lib/python3.10/dist-packages/sklearn/neural_network/_multilayer_perceptron.py:686: ConvergenceWarning: Stochastic Optimizer: Maximum iterations (69) reached and the optimization hasn't converged yet.\n",
            "  warnings.warn(\n",
            "/usr/local/lib/python3.10/dist-packages/sklearn/neural_network/_multilayer_perceptron.py:686: ConvergenceWarning: Stochastic Optimizer: Maximum iterations (70) reached and the optimization hasn't converged yet.\n",
            "  warnings.warn(\n",
            "/usr/local/lib/python3.10/dist-packages/sklearn/neural_network/_multilayer_perceptron.py:686: ConvergenceWarning: Stochastic Optimizer: Maximum iterations (71) reached and the optimization hasn't converged yet.\n",
            "  warnings.warn(\n",
            "/usr/local/lib/python3.10/dist-packages/sklearn/neural_network/_multilayer_perceptron.py:686: ConvergenceWarning: Stochastic Optimizer: Maximum iterations (72) reached and the optimization hasn't converged yet.\n",
            "  warnings.warn(\n",
            "/usr/local/lib/python3.10/dist-packages/sklearn/neural_network/_multilayer_perceptron.py:686: ConvergenceWarning: Stochastic Optimizer: Maximum iterations (73) reached and the optimization hasn't converged yet.\n",
            "  warnings.warn(\n",
            "/usr/local/lib/python3.10/dist-packages/sklearn/neural_network/_multilayer_perceptron.py:686: ConvergenceWarning: Stochastic Optimizer: Maximum iterations (74) reached and the optimization hasn't converged yet.\n",
            "  warnings.warn(\n",
            "/usr/local/lib/python3.10/dist-packages/sklearn/neural_network/_multilayer_perceptron.py:686: ConvergenceWarning: Stochastic Optimizer: Maximum iterations (75) reached and the optimization hasn't converged yet.\n",
            "  warnings.warn(\n",
            "/usr/local/lib/python3.10/dist-packages/sklearn/neural_network/_multilayer_perceptron.py:686: ConvergenceWarning: Stochastic Optimizer: Maximum iterations (76) reached and the optimization hasn't converged yet.\n",
            "  warnings.warn(\n",
            "/usr/local/lib/python3.10/dist-packages/sklearn/neural_network/_multilayer_perceptron.py:686: ConvergenceWarning: Stochastic Optimizer: Maximum iterations (77) reached and the optimization hasn't converged yet.\n",
            "  warnings.warn(\n",
            "/usr/local/lib/python3.10/dist-packages/sklearn/neural_network/_multilayer_perceptron.py:686: ConvergenceWarning: Stochastic Optimizer: Maximum iterations (78) reached and the optimization hasn't converged yet.\n",
            "  warnings.warn(\n",
            "/usr/local/lib/python3.10/dist-packages/sklearn/neural_network/_multilayer_perceptron.py:686: ConvergenceWarning: Stochastic Optimizer: Maximum iterations (79) reached and the optimization hasn't converged yet.\n",
            "  warnings.warn(\n",
            "/usr/local/lib/python3.10/dist-packages/sklearn/neural_network/_multilayer_perceptron.py:686: ConvergenceWarning: Stochastic Optimizer: Maximum iterations (80) reached and the optimization hasn't converged yet.\n",
            "  warnings.warn(\n",
            "/usr/local/lib/python3.10/dist-packages/sklearn/neural_network/_multilayer_perceptron.py:686: ConvergenceWarning: Stochastic Optimizer: Maximum iterations (81) reached and the optimization hasn't converged yet.\n",
            "  warnings.warn(\n",
            "/usr/local/lib/python3.10/dist-packages/sklearn/neural_network/_multilayer_perceptron.py:686: ConvergenceWarning: Stochastic Optimizer: Maximum iterations (82) reached and the optimization hasn't converged yet.\n",
            "  warnings.warn(\n",
            "/usr/local/lib/python3.10/dist-packages/sklearn/neural_network/_multilayer_perceptron.py:686: ConvergenceWarning: Stochastic Optimizer: Maximum iterations (83) reached and the optimization hasn't converged yet.\n",
            "  warnings.warn(\n",
            "/usr/local/lib/python3.10/dist-packages/sklearn/neural_network/_multilayer_perceptron.py:686: ConvergenceWarning: Stochastic Optimizer: Maximum iterations (84) reached and the optimization hasn't converged yet.\n",
            "  warnings.warn(\n",
            "/usr/local/lib/python3.10/dist-packages/sklearn/neural_network/_multilayer_perceptron.py:686: ConvergenceWarning: Stochastic Optimizer: Maximum iterations (85) reached and the optimization hasn't converged yet.\n",
            "  warnings.warn(\n",
            "/usr/local/lib/python3.10/dist-packages/sklearn/neural_network/_multilayer_perceptron.py:686: ConvergenceWarning: Stochastic Optimizer: Maximum iterations (86) reached and the optimization hasn't converged yet.\n",
            "  warnings.warn(\n",
            "/usr/local/lib/python3.10/dist-packages/sklearn/neural_network/_multilayer_perceptron.py:686: ConvergenceWarning: Stochastic Optimizer: Maximum iterations (87) reached and the optimization hasn't converged yet.\n",
            "  warnings.warn(\n",
            "/usr/local/lib/python3.10/dist-packages/sklearn/neural_network/_multilayer_perceptron.py:686: ConvergenceWarning: Stochastic Optimizer: Maximum iterations (88) reached and the optimization hasn't converged yet.\n",
            "  warnings.warn(\n",
            "/usr/local/lib/python3.10/dist-packages/sklearn/neural_network/_multilayer_perceptron.py:686: ConvergenceWarning: Stochastic Optimizer: Maximum iterations (89) reached and the optimization hasn't converged yet.\n",
            "  warnings.warn(\n",
            "/usr/local/lib/python3.10/dist-packages/sklearn/neural_network/_multilayer_perceptron.py:686: ConvergenceWarning: Stochastic Optimizer: Maximum iterations (90) reached and the optimization hasn't converged yet.\n",
            "  warnings.warn(\n",
            "/usr/local/lib/python3.10/dist-packages/sklearn/neural_network/_multilayer_perceptron.py:686: ConvergenceWarning: Stochastic Optimizer: Maximum iterations (91) reached and the optimization hasn't converged yet.\n",
            "  warnings.warn(\n",
            "/usr/local/lib/python3.10/dist-packages/sklearn/neural_network/_multilayer_perceptron.py:686: ConvergenceWarning: Stochastic Optimizer: Maximum iterations (92) reached and the optimization hasn't converged yet.\n",
            "  warnings.warn(\n",
            "/usr/local/lib/python3.10/dist-packages/sklearn/neural_network/_multilayer_perceptron.py:686: ConvergenceWarning: Stochastic Optimizer: Maximum iterations (93) reached and the optimization hasn't converged yet.\n",
            "  warnings.warn(\n",
            "/usr/local/lib/python3.10/dist-packages/sklearn/neural_network/_multilayer_perceptron.py:686: ConvergenceWarning: Stochastic Optimizer: Maximum iterations (94) reached and the optimization hasn't converged yet.\n",
            "  warnings.warn(\n",
            "/usr/local/lib/python3.10/dist-packages/sklearn/neural_network/_multilayer_perceptron.py:686: ConvergenceWarning: Stochastic Optimizer: Maximum iterations (95) reached and the optimization hasn't converged yet.\n",
            "  warnings.warn(\n",
            "/usr/local/lib/python3.10/dist-packages/sklearn/neural_network/_multilayer_perceptron.py:686: ConvergenceWarning: Stochastic Optimizer: Maximum iterations (96) reached and the optimization hasn't converged yet.\n",
            "  warnings.warn(\n",
            "/usr/local/lib/python3.10/dist-packages/sklearn/neural_network/_multilayer_perceptron.py:686: ConvergenceWarning: Stochastic Optimizer: Maximum iterations (97) reached and the optimization hasn't converged yet.\n",
            "  warnings.warn(\n",
            "/usr/local/lib/python3.10/dist-packages/sklearn/neural_network/_multilayer_perceptron.py:686: ConvergenceWarning: Stochastic Optimizer: Maximum iterations (98) reached and the optimization hasn't converged yet.\n",
            "  warnings.warn(\n",
            "/usr/local/lib/python3.10/dist-packages/sklearn/neural_network/_multilayer_perceptron.py:686: ConvergenceWarning: Stochastic Optimizer: Maximum iterations (99) reached and the optimization hasn't converged yet.\n",
            "  warnings.warn(\n",
            "/usr/local/lib/python3.10/dist-packages/sklearn/neural_network/_multilayer_perceptron.py:686: ConvergenceWarning: Stochastic Optimizer: Maximum iterations (100) reached and the optimization hasn't converged yet.\n",
            "  warnings.warn(\n"
          ]
        },
        {
          "output_type": "display_data",
          "data": {
            "text/plain": [
              "<Figure size 1000x600 with 1 Axes>"
            ],
            "image/png": "[encoded data removed]"
          },
          "metadata": {}
        }
      ]
    },
    {
      "cell_type": "markdown",
      "source": [
        " El gráfico muestra que el modelo tiene un alto rendimiento tanto en los datos de entrenamiento como en los de prueba. Sin embargo, la pequeña brecha entre las curvas de precisión del entrenamiento y de la prueba podría indicar un cierto grado de sobreajuste."
      ],
      "metadata": {
        "id": "MsfFx2P7f5mH"
      }
    },
    {
      "cell_type": "code",
      "source": [
        "#Segundo intento\n",
        "from sklearn.model_selection import cross_val_score\n",
        "from sklearn.metrics import confusion_matrix\n",
        "from sklearn.metrics import accuracy_score\n",
        "data['Close_Category'] = pd.cut(data['Close'], bins=3, labels=['Low', 'Medium', 'High'])\n",
        "data['Close_Category'] = data['Close_Category'].astype('category')\n",
        "\n",
        "X = data[['Open', 'High', 'Low', 'Adj Close', 'Volume']].values\n",
        "y = data['Close_Category'].values\n",
        "\n",
        "scaler = StandardScaler()\n",
        "X_scaled = scaler.fit_transform(X)\n",
        "\n",
        "redNeuronal = MLPClassifier(hidden_layer_sizes=(100,), max_iter=500, activation='relu', random_state=42)\n",
        "\n",
        "# Aplicamos validación cruzada\n",
        "cv_scores = cross_val_score(redNeuronal, X_scaled, y, cv=5)\n",
        "print(\"Cross-Validation Scores:\", cv_scores)\n",
        "print(\"Accuracy:\", cv_scores.mean())\n",
        "\n",
        "# Dividimos los datos en conjuntos de entrenamiento y prueba\n",
        "X_train, X_test, y_train, y_test = train_test_split(X_scaled, y, test_size=0.4, random_state=42)\n",
        "\n",
        "# Entrenamos el modelo con los datos de entrenamiento\n",
        "redNeuronal.fit(X_train, y_train)\n",
        "\n",
        "# Realizamos predicciones en el conjunto de prueba\n",
        "y_pred = redNeuronal.predict(X_test)\n",
        "\n",
        "# Evaluamos el modelo utilizando la matriz de confusión y la precisión\n",
        "conf_matrix = confusion_matrix(y_test, y_pred)\n",
        "print(\"Confusion matrix:\\n\", conf_matrix)\n",
        "\n",
        "accuracy = accuracy_score(y_test, y_pred)\n",
        "print(\"Accuracy:\", accuracy)"
      ],
      "metadata": {
        "id": "gnPtLy0NivIs",
        "colab": {
          "base_uri": "https://localhost:8080/"
        },
        "outputId": "978214ff-e24b-469b-c1b0-f5929b96acf5"
      },
      "execution_count": null,
      "outputs": [
        {
          "output_type": "stream",
          "name": "stdout",
          "text": [
            "Cross-Validation Scores: [0.97350993 0.99470199 0.9986755  0.98278146 0.58753316]\n",
            "Accuracy: 0.9074404061341719\n",
            "Confusion matrix:\n",
            " [[217   0   6]\n",
            " [  0 984   3]\n",
            " [  3   6 291]]\n",
            "Accuracy: 0.9880794701986755\n"
          ]
        }
      ]
    },
    {
      "cell_type": "markdown",
      "source": [
        "**Bitacora**\n",
        "\n",
        "*Prueba 1*\n",
        "\n",
        "Algoritmo: MLPClassifier\n",
        "\n",
        "Parametros:\n",
        "  * hidden_layer_sizes=(100, 10),\n",
        "  * activation='relu',\n",
        "  * solver='adam',\n",
        "  * max_iter=1000\n",
        "\n",
        "Resultados:\n",
        "  * tiempo: 9s\n",
        "  * MSE: 0.06348168448527679"
      ],
      "metadata": {
        "id": "_ZI_gcjXU2io"
      }
    },
    {
      "cell_type": "markdown",
      "source": [
        "*Red neuronal de Regresion*"
      ],
      "metadata": {
        "id": "xh-0Azjl5WhJ"
      }
    },
    {
      "cell_type": "code",
      "source": [
        "from sklearn.preprocessing import StandardScaler\n",
        "from sklearn.model_selection import train_test_split\n",
        "from sklearn.neural_network import MLPRegressor\n",
        "from sklearn.metrics import mean_squared_error"
      ],
      "metadata": {
        "id": "6bB373dE5aiX"
      },
      "execution_count": null,
      "outputs": []
    },
    {
      "cell_type": "code",
      "source": [
        "df_filtered.head()"
      ],
      "metadata": {
        "id": "s7TVZqiH5q7A"
      },
      "execution_count": null,
      "outputs": []
    },
    {
      "cell_type": "code",
      "source": [
        "#definimos las variables\n",
        "X_rn = df_filtered[['Year','Open','High','Low','Adj Close','Volume']]\n",
        "Y_rn = df_filtered['Close']"
      ],
      "metadata": {
        "id": "4HASolfb5jLi"
      },
      "execution_count": null,
      "outputs": []
    },
    {
      "cell_type": "code",
      "source": [
        "# Normalizar las variables\n",
        "scaler = StandardScaler()\n",
        "X = scaler.fit_transform(X_rn)\n",
        "\n",
        "# Dividir el dataset en entrenamiento y prueba\n",
        "X_train, X_test, y_train, y_test = train_test_split(X, Y_rn, test_size=0.25)"
      ],
      "metadata": {
        "id": "nmbMjvMY58QX"
      },
      "execution_count": null,
      "outputs": []
    },
    {
      "cell_type": "code",
      "source": [
        "# Definir la arquitectura de la red neuronal\n",
        "model = MLPRegressor(hidden_layer_sizes=(10, 4), activation='relu', solver='lbfgs', max_iter=1000)\n",
        "\n",
        "# Entrenar la red neuronal\n",
        "model.fit(X_train, y_train)"
      ],
      "metadata": {
        "id": "F0dWRcqB6PaV"
      },
      "execution_count": null,
      "outputs": []
    },
    {
      "cell_type": "code",
      "source": [
        "# Predecir el precio de cierre para el conjunto de prueba\n",
        "y_pred = model.predict(X_test)\n",
        "\n",
        "# Calcular el error cuadrático medio\n",
        "mse = mean_squared_error(y_test, y_pred)\n",
        "\n",
        "# Imprimir el error\n",
        "print(\"Error cuadrático medio:\", mse)"
      ],
      "metadata": {
        "id": "zbO05VTZ6oeO"
      },
      "execution_count": null,
      "outputs": []
    },
    {
      "cell_type": "markdown",
      "source": [
        "**Bitacora**\n",
        "\n",
        "*Prueba 1*\n",
        "\n",
        "Algoritmo: MLPRegressor\n",
        "\n",
        "Parametros:\n",
        "  * hidden_layer_sizes=(10, 10),\n",
        "  * activation='relu',\n",
        "  * solver='adam',\n",
        "  * max_iter=1000\n",
        "\n",
        "Resultados:\n",
        "  * tiempo: 9s\n",
        "  * MSE: 0.06348168448527679"
      ],
      "metadata": {
        "id": "P7Epp6CO7dES"
      }
    },
    {
      "cell_type": "markdown",
      "source": [
        "**Bitacora**\n",
        "\n",
        "*Prueba 2*\n",
        "\n",
        "Algoritmo: MLPRegressor\n",
        "\n",
        "Parametros:\n",
        "  * hidden_layer_sizes=(10, 4),\n",
        "  * activation='relu',\n",
        "  * solver='adam',\n",
        "  * max_iter=1000\n",
        "\n",
        "Resultados:\n",
        "  * tiempo: 8s\n",
        "  * MSE: 0.04941554986182121"
      ],
      "metadata": {
        "id": "_1cjVEXU8dA8"
      }
    },
    {
      "cell_type": "markdown",
      "source": [
        "**Bitacora**\n",
        "\n",
        "*Prueba 3*\n",
        "\n",
        "Algoritmo: MLPRegressor\n",
        "\n",
        "Parametros:\n",
        "  * hidden_layer_sizes=(10, 4),\n",
        "  * activation='tanh',\n",
        "  * solver='adam',\n",
        "  * max_iter=1000\n",
        "\n",
        "Resultados:\n",
        "  * tiempo: 9s\n",
        "  * MSE: 586.0327375761971"
      ],
      "metadata": {
        "id": "x7umjfEW9CvD"
      }
    },
    {
      "cell_type": "markdown",
      "source": [
        "**Bitacora**\n",
        "\n",
        "*Prueba 4*\n",
        "\n",
        "Algoritmo: MLPRegressor\n",
        "\n",
        "Parametros:\n",
        "  * hidden_layer_sizes=(10, 4),\n",
        "  * activation='relu',\n",
        "  * solver='sgd',\n",
        "  * max_iter=1000\n",
        "\n",
        "Resultados:\n",
        "  * tiempo: 2s\n",
        "  * MSE: 0.06393763922976899"
      ],
      "metadata": {
        "id": "ADDdgSnz9hNq"
      }
    },
    {
      "cell_type": "markdown",
      "source": [
        "**Bitacora**\n",
        "\n",
        "*Prueba 5*\n",
        "\n",
        "Algoritmo: MLPRegressor\n",
        "\n",
        "Parametros:\n",
        "  * hidden_layer_sizes=(10, 4),\n",
        "  * activation='relu',\n",
        "  * solver='lbfgs',\n",
        "  * max_iter=1000\n",
        "\n",
        "Resultados:\n",
        "  * tiempo: 3s\n",
        "  * MSE: 8.270308841647225e-06"
      ],
      "metadata": {
        "id": "MQtunZbc-A46"
      }
    },
    {
      "cell_type": "markdown",
      "source": [
        "**Conclusiones:**\n",
        "Después de meses de arduo trabajo, hemos concluido nuestro proyecto de predicción de las acciones de Google  de los años (2009-2024) utilizando técnicas de Procesamiento de Datos y Análisis de Datos con Python y Machine Learning. Durante este tiempo, hemos adquirido una comprensión profunda de los conceptos fundamentales de la ciencia de datos y hemos aplicado estas habilidades para abordar un problema real y desafiante en el mundo financiero.\n",
        "\n",
        "A lo largo del proyecto, aprendimos a limpiar y procesar datos, explorar características relevantes, y seleccionar y entrenar modelos de Machine Learning. También ganamos experiencia en la evaluación de modelos, utilizando herramientas para comprender el rendimiento del modelo y tomar decisiones informadas sobre ajustes adicionales.\n",
        "\n",
        "Nuestro análisis nos ha permitido no solo predecir con precisión los precios de las acciones de Google, sino también comprender mejor el proceso de desarrollo de modelos de Machine Learning y sus implicaciones en el mundo real.\n",
        "Este proyecto nos ha brindado una valiosa experiencia y nos ha preparado para enfrentar desafíos aún mayores en nuestro viaje como futuras analistas de datos."
      ],
      "metadata": {
        "id": "mNyykveYkPI3"
      }
    }
  ]
}